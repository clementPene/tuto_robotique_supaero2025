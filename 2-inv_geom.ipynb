{
 "cells": [
  {
   "cell_type": "markdown",
   "metadata": {},
   "source": [
    "# Direct and inverse geometry of 3d robots\n",
    "This notebook introduces the kinematic tree of Pinocchio for a serial manipulator, explain how to compute the forward and inverse geometry (from configuration to end-effector placements, and inversely). The ideas are examplified with a simplified case-study taken from parallel robotics."
   ]
  },
  {
   "cell_type": "code",
   "execution_count": 1,
   "metadata": {},
   "outputs": [
    {
     "name": "stdout",
     "output_type": "stream",
     "text": [
      "NB: as for all the tutorials, a magic command %do_not_load is introduced to hide\n",
      "    the solutions to some questions. Change it for %load if you want to see (and\n",
      "    execute) the solution.\n"
     ]
    }
   ],
   "source": [
    "import gepetuto.magic"
   ]
  },
  {
   "cell_type": "markdown",
   "metadata": {},
   "source": [
    "## Set up\n",
    "We will need Pinocchio, Gepetto-Viewer, SciPy for the solvers"
   ]
  },
  {
   "cell_type": "code",
   "execution_count": 2,
   "metadata": {},
   "outputs": [],
   "source": [
    "import time\n",
    "import math\n",
    "import numpy as np\n",
    "from numpy.linalg import norm\n",
    "import pinocchio as pin\n",
    "import example_robot_data as robex\n",
    "from scipy.optimize import fmin_bfgs"
   ]
  },
  {
   "cell_type": "markdown",
   "metadata": {},
   "source": [
    "## Kinematic tree in Pinocchio\n",
    "Let's now play with 3D robots. We will load the models from URDF files.\n",
    "\n",
    "*The robot UR5* is a low-cost manipulator robot with good performances. It is a fixed robot with one 6-DOF arms developed by the Danish company Universal Robot. All its 6 joints are revolute joints. Its configuration is in R^6 and is not subject to any constraint. The model of UR5 is described in a URDF file, with the visuals of the bodies of the robot being described as meshed (i.e. polygon soups) using the Collada format \".dae\". Both the URDF and the DAE files are available in the repository in the model directory. \n",
    "\n",
    "This robot model, as well as other models used in the notebooks, are installed from the apt paquet robotpkg-example-robot-data and stored in /opt/openrobots/share/example-robot-data.\n"
   ]
  },
  {
   "cell_type": "code",
   "execution_count": 3,
   "metadata": {},
   "outputs": [],
   "source": [
    "# %load tp2/generated/simple_pick_and_place_1\n",
    "\n",
    "robot = robex.load('ur5')\n"
   ]
  },
  {
   "cell_type": "markdown",
   "metadata": {},
   "source": [
    "The kinematic tree is represented by two C++ objects called Model (which contains the model constants: lengths, masses, names, etc) and Data (which contains the working memory used by the model algorithms). Both C\\++ objects are contained in a unique Python class. The first class is called RobotWrapper and is generic."
   ]
  },
  {
   "cell_type": "code",
   "execution_count": 4,
   "metadata": {},
   "outputs": [
    {
     "name": "stdout",
     "output_type": "stream",
     "text": [
      "Nb joints = 7 (nq=6,nv=6)\n",
      "  Joint 0 universe: parent=0\n",
      "  Joint 1 shoulder_pan_joint: parent=0\n",
      "  Joint 2 shoulder_lift_joint: parent=1\n",
      "  Joint 3 elbow_joint: parent=2\n",
      "  Joint 4 wrist_1_joint: parent=3\n",
      "  Joint 5 wrist_2_joint: parent=4\n",
      "  Joint 6 wrist_3_joint: parent=5\n",
      "\n"
     ]
    }
   ],
   "source": [
    "print(robot.model)"
   ]
  },
  {
   "cell_type": "markdown",
   "metadata": {},
   "source": [
    "For the next steps, we are going to work with the RobotWrapper.\n",
    "\n",
    "Import the class RobotWrapper and create an instance of this class in the python terminal. At initialization, RobotWrapper will read the model description in the URDF file given as argument. In the following, we will use the model of the UR5 robot, available in the directory \"models\" of pinocchio (available in the homedir of the VBox). The code of the RobotWrapper class is in /opt/openrobots/lib/python2.7/site-packages/pinocchio/robot_wrapper.py . Do not hesitate to have a look at it and to take inspiration from the implementation of the class functions.\n",
    "\n",
    "Here are some import methods of the class.\n"
   ]
  },
  {
   "cell_type": "markdown",
   "metadata": {},
   "source": [
    "* robot.q0 contains a reference initial configuration of the robot (not a pretty good one for the UR-5)."
   ]
  },
  {
   "cell_type": "markdown",
   "metadata": {},
   "source": [
    "* robot.index('joint name') returns the index of the joint."
   ]
  },
  {
   "cell_type": "code",
   "execution_count": 5,
   "metadata": {},
   "outputs": [
    {
     "data": {
      "text/plain": [
       "7"
      ]
     },
     "execution_count": 5,
     "metadata": {},
     "output_type": "execute_result"
    }
   ],
   "source": [
    "robot.index(' wrist_3_joint')"
   ]
  },
  {
   "cell_type": "markdown",
   "metadata": {},
   "source": [
    "* robot.model.names is a container (~list) that contains all the joint names"
   ]
  },
  {
   "cell_type": "code",
   "execution_count": 6,
   "metadata": {},
   "outputs": [
    {
     "name": "stdout",
     "output_type": "stream",
     "text": [
      "0 universe\n",
      "1 shoulder_pan_joint\n",
      "2 shoulder_lift_joint\n",
      "3 elbow_joint\n",
      "4 wrist_1_joint\n",
      "5 wrist_2_joint\n",
      "6 wrist_3_joint\n"
     ]
    }
   ],
   "source": [
    "for i, n in enumerate(robot.model.names):\n",
    "    print(i, n)"
   ]
  },
  {
   "cell_type": "markdown",
   "metadata": {},
   "source": [
    "* robot.model.frames contains all the import frames attached to the robot. "
   ]
  },
  {
   "cell_type": "code",
   "execution_count": 7,
   "metadata": {},
   "outputs": [
    {
     "name": "stdout",
     "output_type": "stream",
     "text": [
      "universe attached to joint # 0\n",
      "world attached to joint # 0\n",
      "world_joint attached to joint # 0\n",
      "base_link attached to joint # 0\n",
      "base_link-base_fixed_joint attached to joint # 0\n",
      "base attached to joint # 0\n",
      "shoulder_pan_joint attached to joint # 1\n",
      "shoulder_link attached to joint # 1\n",
      "shoulder_lift_joint attached to joint # 2\n",
      "upper_arm_link attached to joint # 2\n",
      "elbow_joint attached to joint # 3\n",
      "forearm_link attached to joint # 3\n",
      "wrist_1_joint attached to joint # 4\n",
      "wrist_1_link attached to joint # 4\n",
      "wrist_2_joint attached to joint # 5\n",
      "wrist_2_link attached to joint # 5\n",
      "wrist_3_joint attached to joint # 6\n",
      "wrist_3_link attached to joint # 6\n",
      "ee_fixed_joint attached to joint # 6\n",
      "ee_link attached to joint # 6\n",
      "wrist_3_link-tool0_fixed_joint attached to joint # 6\n",
      "tool0 attached to joint # 6\n"
     ]
    },
    {
     "name": "stderr",
     "output_type": "stream",
     "text": [
      "/tmp/ipykernel_72435/2471843488.py:2: UserWarning: Deprecated member. Use Frame.parentJoint instead.\n",
      "  print(f.name, 'attached to joint #', f.parent)\n"
     ]
    }
   ],
   "source": [
    "for f in robot.model.frames:\n",
    "    print(f.name, 'attached to joint #', f.parent)"
   ]
  },
  {
   "cell_type": "markdown",
   "metadata": {},
   "source": [
    "* robot.placement(idx) and robot.framePlacement(idx) returns the placement (i.e. translation+rotation of the joint / frame in argument."
   ]
  },
  {
   "cell_type": "code",
   "execution_count": 8,
   "metadata": {},
   "outputs": [
    {
     "data": {
      "text/plain": [
       "SE3(array([[-1.0000000e+00,  0.0000000e+00,  9.7932773e-12,  8.1725000e-01],[ 0.0000000e+00,  1.0000000e+00,  0.0000000e+00,  1.0915000e-01],[-9.7932773e-12,  0.0000000e+00, -1.0000000e+00, -5.4910000e-03],[ 0.0000000e+00,  0.0000000e+00,  0.0000000e+00,  1.0000000e+00]]))"
      ]
     },
     "execution_count": 8,
     "metadata": {},
     "output_type": "execute_result"
    }
   ],
   "source": [
    "robot.placement(robot.q0, 6)  # Placement of the end effector."
   ]
  },
  {
   "cell_type": "markdown",
   "metadata": {},
   "source": [
    "The dimension of the configuration space (i.e. the number of joints) is given in:"
   ]
  },
  {
   "cell_type": "code",
   "execution_count": 9,
   "metadata": {},
   "outputs": [],
   "source": [
    "NQ = robot.model.nq\n",
    "NV = robot.model.nv  # for this simple robot, NV == NQ"
   ]
  },
  {
   "cell_type": "markdown",
   "metadata": {},
   "source": [
    "## Display simple geometries\n",
    "The robot is displayed in the viewer. We are going to use Meshcat to visualize the 3d robot and scene. First open the viewer and load the robot geometries."
   ]
  },
  {
   "cell_type": "code",
   "execution_count": 11,
   "metadata": {},
   "outputs": [
    {
     "name": "stdout",
     "output_type": "stream",
     "text": [
      "You can open the visualizer by visiting the following URL:\n",
      "http://127.0.0.1:7001/static/\n"
     ]
    }
   ],
   "source": [
    "from supaero2025.meshcat_viewer_wrapper import MeshcatVisualizer, colors  # noqa: E402\n",
    "\n",
    "viz = MeshcatVisualizer(robot)"
   ]
  },
  {
   "cell_type": "code",
   "execution_count": 12,
   "metadata": {},
   "outputs": [
    {
     "data": {
      "text/html": [
       "\n",
       "            <div style=\"height: 400px; width: 100%; overflow-x: auto; overflow-y: hidden; resize: both\">\n",
       "            <iframe src=\"http://127.0.0.1:7001/static/\" style=\"width: 100%; height: 100%; border: none\"></iframe>\n",
       "            </div>\n",
       "            "
      ],
      "text/plain": [
       "<IPython.core.display.HTML object>"
      ]
     },
     "execution_count": 12,
     "metadata": {},
     "output_type": "execute_result"
    }
   ],
   "source": [
    "viz.viewer.jupyter_cell()"
   ]
  },
  {
   "cell_type": "markdown",
   "metadata": {},
   "source": [
    "A configuration *q* can be displayed in the viewer:"
   ]
  },
  {
   "cell_type": "code",
   "execution_count": 14,
   "metadata": {},
   "outputs": [],
   "source": [
    "q = np.array([-1., -1.5, 2.1, -.5, -.5, 0])\n",
    "\n",
    "viz.display(q)"
   ]
  },
  {
   "cell_type": "markdown",
   "metadata": {},
   "source": [
    "Other geometries (cubes, spheres, etc) can be displayed as well."
   ]
  },
  {
   "cell_type": "code",
   "execution_count": 27,
   "metadata": {},
   "outputs": [],
   "source": [
    "# %load tp2/generated/simple_pick_and_place_2\n",
    "\n",
    "# Add a red box in the viewer\n",
    "ballID = \"world/ball\"\n",
    "viz.addSphere(ballID, 0.1, colors.red)\n",
    "\n",
    "# Place the ball at the position ( 0.5, 0.1, 0.2 )\n",
    "# The viewer expect position and rotation, apppend the identity quaternion\n",
    "q_ball = [0.5, 0.1, 0.2, 1, 0, 0, 0]\n",
    "viz.applyConfiguration(ballID, q_ball)\n"
   ]
  },
  {
   "cell_type": "markdown",
   "metadata": {},
   "source": [
    "# Forward (direct) geometry\n",
    "\n",
    "First, let's do some forward geometry, i.e. use Pinocchio to compute where is the end effector knowning the robot configuration.\n",
    "\n",
    "# Simple pick ...\n",
    "\n",
    "Say we have a target at position [.5,.1,.2] and we would like the robot to grasp it.\n",
    "First decide (by any way you want, e.g. trial and error) the configuration of the robot so that the end effector touches the ball. For that, modify the template code below.\n"
   ]
  },
  {
   "cell_type": "code",
   "execution_count": 17,
   "metadata": {},
   "outputs": [],
   "source": [
    "q0 = np.zeros(NQ)  # set the correct values here\n",
    "q0[0] = 0.5\n",
    "q0[1] = 0.\n",
    "q0[2] = -1.5\n",
    "q0[3] = 0.\n",
    "q0[4] = 0.\n",
    "q0[5] = 0.\n",
    "\n",
    "viz.display(q0)\n",
    "\n",
    "# Take care to explicitely mention copy when you want a copy of array.\n",
    "q = q0.copy()"
   ]
  },
  {
   "cell_type": "markdown",
   "metadata": {},
   "source": [
    "Here is the solution, should you need it."
   ]
  },
  {
   "cell_type": "code",
   "execution_count": 25,
   "metadata": {},
   "outputs": [],
   "source": [
    "# %load tp2/generated/simple_pick_and_place_3\n",
    "q0 = np.zeros(NQ)  # set the correct values here\n",
    "q0[0] = -0.375\n",
    "q0[1] = -1.2\n",
    "q0[2] = 1.71\n",
    "q0[3] = -q0[1] - q0[2]\n",
    "q0[4] = q0[0]\n",
    "q0[5] = 0.0\n",
    "\n",
    "viz.display(q0)\n",
    "q = q0.copy()\n"
   ]
  },
  {
   "cell_type": "markdown",
   "metadata": {},
   "source": [
    "# ... and simple place"
   ]
  },
  {
   "cell_type": "markdown",
   "metadata": {},
   "source": [
    "At the reference position you built, the end effector placement can be obtained by calling "
   ]
  },
  {
   "cell_type": "code",
   "execution_count": 28,
   "metadata": {
    "jupyter": {
     "source_hidden": true
    }
   },
   "outputs": [
    {
     "data": {
      "text/plain": [
       "array([ 0.50182315, -0.08022936,  0.19913809])"
      ]
     },
     "execution_count": 28,
     "metadata": {},
     "output_type": "execute_result"
    }
   ],
   "source": [
    "robot.placement(q, 6).translation"
   ]
  },
  {
   "cell_type": "markdown",
   "metadata": {},
   "source": [
    "Only the translation part of the placement has been selected. The rotation is free.\n",
    "\n",
    "Now, choose any trajectory you want in the configuration space (it can be sinus-cosinus waves, polynomials, splines, straight lines). Make a for loop to display the robot at sampling positions along this trajectory. The function sleep can be used to slow down the loop."
   ]
  },
  {
   "cell_type": "code",
   "execution_count": 21,
   "metadata": {},
   "outputs": [],
   "source": [
    "time.sleep(.1)  # in second"
   ]
  },
  {
   "cell_type": "markdown",
   "metadata": {},
   "source": [
    "At each instant of your loop, recompute the position of the ball and display it so that it always \"sticks\" to the robot end effector, by modifying the template code below:"
   ]
  },
  {
   "cell_type": "code",
   "execution_count": 22,
   "metadata": {},
   "outputs": [],
   "source": []
  },
  {
   "cell_type": "markdown",
   "metadata": {},
   "source": [
    "The solution is below, should you need it."
   ]
  },
  {
   "cell_type": "code",
   "execution_count": 29,
   "metadata": {},
   "outputs": [],
   "source": [
    "# %load tp2/generated/simple_pick_and_place_4\n",
    "# Random velocity of the robot driving the movement\n",
    "\n",
    "vq = np.array([2.0, 0, 0, 4.0, 0, 0])\n",
    "q = q0.copy()\n",
    "viz.display(q)\n",
    "\n",
    "idx = robot.index(\"wrist_3_joint\")\n",
    "o_eff = robot.placement(\n",
    "    q, idx\n",
    ").translation  # Position of end-eff wrt world at current configuration\n",
    "o_ball = q_ball[:3]  # Position of ball wrt world\n",
    "eff_ball = o_ball - o_eff  # Position of ball wrt eff\n",
    "\n",
    "for i in range(50):\n",
    "    # Chose new configuration of the robot\n",
    "    q += vq / 40\n",
    "    q[2] = 1.71 + math.sin(i * 0.05) / 2\n",
    "\n",
    "    # Gets the new position of the ball\n",
    "    o_ball = robot.placement(q, idx) * eff_ball\n",
    "\n",
    "    # Display new configuration for robot and ball\n",
    "    viz.applyConfiguration(ballID, o_ball.tolist() + [1, 0, 0, 0])\n",
    "    viz.display(q)\n",
    "    time.sleep(1e-1)\n"
   ]
  },
  {
   "cell_type": "markdown",
   "metadata": {},
   "source": [
    "### Pick and place in 3D\n",
    "\n",
    "Say now that the object is a rectangle and not a sphere. Pick the object at a reference position with the rotation that is imposed, so that the end effector is aligned with one of the faces of the rectangle.\n"
   ]
  },
  {
   "cell_type": "code",
   "execution_count": 36,
   "metadata": {},
   "outputs": [],
   "source": [
    "# %load tp2/generated/simple_pick_and_place_5\n",
    "\n",
    "# Add a red box in the viewer\n",
    "boxID = \"world/box\"\n",
    "viz.delete(ballID)\n",
    "viz.addBox(boxID, [0.1, 0.2, 0.1], colors.magenta)\n",
    "\n",
    "# Place the box at the position (0.5, 0.1, 0.2)\n",
    "q_box = [0.5, 0.1, 0.2, 1, 0, 0, 0]\n",
    "viz.applyConfiguration(boxID, q_box)\n",
    "viz.applyConfiguration(ballID, [2,2,2,1,0,0,0])\n"
   ]
  },
  {
   "cell_type": "markdown",
   "metadata": {},
   "source": [
    "A configuration with the arm nicely attached to the box is:"
   ]
  },
  {
   "cell_type": "code",
   "execution_count": 37,
   "metadata": {},
   "outputs": [],
   "source": [
    "# %load tp2/generated/simple_pick_and_place_6\n",
    "\n",
    "q0 = np.zeros(NQ)\n",
    "q0[0] = -0.375\n",
    "q0[1] = -1.2\n",
    "q0[2] = 1.71\n",
    "q0[3] = -q0[1] - q0[2]\n",
    "q0[4] = q0[0]\n",
    "\n",
    "viz.display(q0)\n",
    "q = q0.copy()\n"
   ]
  },
  {
   "cell_type": "markdown",
   "metadata": {},
   "source": [
    "Redo the same question as before, but now also choosing the orientation of the box. For that, at each robot configuration in your for-loop, compute the box placement wrt the world (let's denote it by oMbox) and display both the box and the robot configuration in the view."
   ]
  },
  {
   "cell_type": "code",
   "execution_count": 39,
   "metadata": {},
   "outputs": [],
   "source": [
    "# %load tp2/generated/simple_pick_and_place_7\n",
    "# Random velocity of the robot driving the movement\n",
    "vq = np.array([2., 0, 0, 4., 0, 0])\n",
    "\n",
    "idx = robot.index('wrist_3_joint')\n",
    "oMeff = robot.placement(q, idx)  # Placement of end-eff wrt world at current configuration\n",
    "oMbox = pin.XYZQUATToSE3(q_box)  # Placement of box     wrt world\n",
    "effMbox = oMeff.inverse() * oMbox  # Placement of box     wrt eff\n",
    "\n",
    "for i in range(100):\n",
    "    # Chose new configuration of the robot\n",
    "    q += vq / 40\n",
    "    q[2] = 1.71 + math.sin(i * 0.05) / 2\n",
    "\n",
    "    # Gets the new position of the box\n",
    "    oMbox = robot.placement(q, idx) * effMbox\n",
    "\n",
    "    # Display new configuration for robot and box\n",
    "    viz.applyConfiguration(boxID, oMbox)\n",
    "    viz.display(q)\n",
    "    time.sleep(1e-2)\n"
   ]
  },
  {
   "cell_type": "markdown",
   "metadata": {},
   "source": [
    "## Inverse geometry\n",
    "\n",
    "We only yet computed the forward geometry, i.e. from configurations to end-effector placement. Let's to the inverse map not.\n",
    "\n",
    "### Inverse geometry in 3D\n",
    "\n",
    "Let's now first control the position (i.e. translation only) of the end effector of a manipulator robot to a given position. For this first part, we will use the fixed serial-chain robot model.\n",
    "\n",
    "Recall first that the position (3D) of the joint with index \"i=6\" at position \"q\" can be access by the following two lines of code."
   ]
  },
  {
   "cell_type": "code",
   "execution_count": 24,
   "metadata": {},
   "outputs": [],
   "source": [
    "robot.placement(q, 6).translation"
   ]
  },
  {
   "cell_type": "markdown",
   "metadata": {},
   "source": [
    "Using the scipy solver [used in the previous notebook](1_geometry_2d.ipynb#section_optim), compute a configuration q where the end effector reaches p. For that, implement a cost function that takes a configuration as argument and returns the squared distance between the end effetor and the target."
   ]
  },
  {
   "cell_type": "code",
   "execution_count": 45,
   "metadata": {},
   "outputs": [
    {
     "name": "stdout",
     "output_type": "stream",
     "text": [
      "Optimization terminated successfully.\n",
      "         Current function value: 0.000000\n",
      "         Iterations: 17\n",
      "         Function evaluations: 147\n",
      "         Gradient evaluations: 21\n"
     ]
    }
   ],
   "source": [
    "# %load tp2/generated/invgeom3d_1\n",
    "# Add a vizualisation for the tip of the arm.\n",
    "viz.delete(boxID)\n",
    "tipID = \"world/blue\"\n",
    "viz.addBox(tipID, [0.08] * 3, [0.2, 0.2, 1.0, 0.5])\n",
    "#\n",
    "# OPTIM 3D #########################################################\n",
    "#\n",
    "\n",
    "\n",
    "def cost(q):\n",
    "    \"\"\"Compute score from a configuration\"\"\"\n",
    "    p = robot.placement(q, 6).translation\n",
    "    return norm(p - target) ** 2\n",
    "\n",
    "\n",
    "def callback(q):\n",
    "    viz.applyConfiguration(ballID, target.tolist() + [0, 1, 0, 0])\n",
    "    viz.applyConfiguration(tipID, robot.placement(q, 6))\n",
    "    viz.display(q)\n",
    "    time.sleep(1)\n",
    "\n",
    "\n",
    "target = np.array([0.5, 0.1, 0.2])  # x,y,z\n",
    "qopt = fmin_bfgs(cost, robot.q0, callback=callback)\n"
   ]
  },
  {
   "cell_type": "markdown",
   "metadata": {},
   "source": [
    "### Inverse geometry in 6D\n",
    "6D means: translation and rotation. Change the previous cost function for a cost measuring the difference between the current placement root.placement(q,6) and a reference placement oMdes. \n",
    "For that, you can use the SE(3) log function to score the distance between two placements. The log returns a 6D velocity, represented by a class Motion, that must be transformed to a vector of R^6 from which you can take the norm.\n"
   ]
  },
  {
   "cell_type": "code",
   "execution_count": 26,
   "metadata": {},
   "outputs": [],
   "source": [
    "pin.log(pin.SE3.Identity()).vector"
   ]
  },
  {
   "cell_type": "code",
   "execution_count": 46,
   "metadata": {},
   "outputs": [
    {
     "name": "stdout",
     "output_type": "stream",
     "text": [
      "         Current function value: 0.000000\n",
      "         Iterations: 66\n",
      "         Function evaluations: 712\n",
      "         Gradient evaluations: 100\n",
      "The robot finally reached effector placement at\n",
      "   R =\n",
      "           1 -4.42656e-09 -4.78269e-09\n",
      "-2.49232e-10     0.707388    -0.706825\n",
      " 6.51202e-09     0.706825     0.707388\n",
      "  p = -0.5  0.1  0.2\n",
      "\n"
     ]
    },
    {
     "name": "stderr",
     "output_type": "stream",
     "text": [
      "/home/cpene/Documents/supaero2025/.venv/lib/python3.12/site-packages/scipy/optimize/_optimize.py:1330: OptimizeWarning: Desired error not necessarily achieved due to precision loss.\n",
      "  res = _minimize_bfgs(f, x0, args, fprime, callback=callback, **opts)\n"
     ]
    }
   ],
   "source": [
    "# %load tp2/generated/invgeom6d_1\n",
    "\n",
    "# Add a vizualisation for the tip of the arm.\n",
    "tipID = \"world/blue\"\n",
    "viz.addBox(tipID, [.08] * 3, [.2, .2, 1., .5])\n",
    "\n",
    "#\n",
    "# OPTIM 6D #########################################################\n",
    "#\n",
    "\n",
    "\n",
    "def cost(q):\n",
    "    '''Compute score from a configuration'''\n",
    "    M = robot.placement(q, 6)\n",
    "    return norm(pin.log(M.inverse() * Mtarget).vector)\n",
    "\n",
    "\n",
    "def callback(q):\n",
    "    viz.applyConfiguration(boxID, Mtarget)\n",
    "    viz.applyConfiguration(tipID, robot.placement(q, 6))\n",
    "    viz.display(q)\n",
    "    time.sleep(1e-2)\n",
    "\n",
    "\n",
    "Mtarget = pin.SE3(pin.utils.rotate('x', 3.14 / 4), np.array([-0.5, 0.1, 0.2]))  # x,y,z\n",
    "qopt = fmin_bfgs(cost, robot.q0, callback=callback)\n",
    "\n",
    "print('The robot finally reached effector placement at\\n', robot.placement(qopt, 6))\n"
   ]
  },
  {
   "cell_type": "markdown",
   "metadata": {},
   "source": [
    "### Optimizing in the quaternion space\n",
    "\n",
    "Let's now work with a floating robot: the quadruped ANYmal. This robot has 12 joints, but Q-space of size 19 (robot.model.nq) and Q-tangent space of size 18 (robot.model.nv). This is because with need 7D vector to encode the robot placement in space, which indeed to only 6 DOF.\n"
   ]
  },
  {
   "cell_type": "code",
   "execution_count": 125,
   "metadata": {},
   "outputs": [
    {
     "name": "stdout",
     "output_type": "stream",
     "text": [
      "You can open the visualizer by visiting the following URL:\n",
      "http://127.0.0.1:7007/static/\n"
     ]
    }
   ],
   "source": [
    "robot = robex.load('solo12')\n",
    "viz = MeshcatVisualizer(robot)\n",
    "#viz.viewer.jupyter_cell()"
   ]
  },
  {
   "cell_type": "code",
   "execution_count": 130,
   "metadata": {},
   "outputs": [],
   "source": [
    "viz.display(robot.q0)"
   ]
  },
  {
   "cell_type": "markdown",
   "metadata": {},
   "source": [
    "\n",
    "Run the following code. Can you explain what just happened? Then correct it to have a proper optimization of ANYmal configuration."
   ]
  },
  {
   "cell_type": "code",
   "execution_count": 115,
   "metadata": {
    "scrolled": true
   },
   "outputs": [
    {
     "name": "stdout",
     "output_type": "stream",
     "text": [
      "Hauteur cible du torse définie à : 0.235 m\n",
      "Optimization terminated successfully.\n",
      "         Current function value: 0.000000\n",
      "         Iterations: 32\n",
      "         Function evaluations: 700\n",
      "         Gradient evaluations: 35\n",
      "\n",
      " *** q_optimal = [ 1.61127515e-02  3.42788364e-02  1.89762865e-01 -1.37108744e-01\n",
      "  7.67170331e-02 -1.58459687e-03  9.59899782e-01  9.51344732e-02\n",
      "  2.74324442e-01 -2.09284879e+00  7.88347242e-02  2.46581610e-01\n",
      " -1.63723720e+00  9.99707530e-02 -3.67273014e-01  1.58508035e+00\n",
      " -2.95446984e-01 -2.33655461e-01  2.10780200e+00]\n",
      "\n",
      "\n",
      "\n",
      "\n"
     ]
    }
   ],
   "source": [
    "from scipy.optimize import fmin_bfgs, fmin_slsqp\n",
    "\n",
    "# Récupérer les identifiants numériques (indices) des pattes pour des calculs rapides\n",
    "# C'est plus efficace que de chercher par nom ('HR_FOOT') à chaque fois\n",
    "FRAME_NAMES = ['HR_FOOT', 'HL_FOOT', 'FR_FOOT', 'FL_FOOT']\n",
    "robot.feetIndexes = [robot.model.getFrameId(frameName) for frameName in FRAME_NAMES]\n",
    "\n",
    "\n",
    "\n",
    "# Ajouter des sphères dans le visualiseur pour représenter les cibles et les positions actuelles des pattes\n",
    "colors = ['red', 'blue', 'green', 'magenta']\n",
    "for i, color in enumerate(colors):\n",
    "    # Sphère pour la position ACTUELLE de la patte i\n",
    "    viz.addSphere(f\"world/{FRAME_NAMES[i]}\", 0.05, color)\n",
    "    # Sphère pour la position DÉSIRÉE (cible) de la patte i\n",
    "    viz.addSphere(f\"world/{FRAME_NAMES[i]}_des\", 0.05, color)\n",
    "\n",
    "targets = [\n",
    "    np.array([-0.3, -0.15, 0.2]), # Cible pour la patte HR (arrière-droite)\n",
    "    np.array([-0.3,  0.15, 0.0]), # Cible pour la patte HL (arrière-gauche)\n",
    "    np.array([ 0.3, -0.15, 0.0]), # Cible pour la patte FR (avant-droite)\n",
    "    np.array([ 0.3,  0.15, 0.0])  # Cible pour la patte FL (avant-gauche)\n",
    "]\n",
    "\n",
    "# On prend la hauteur initiale du torse comme notre objectif\n",
    "q0 = robot.q0\n",
    "# L'ID du corps de base est 1 (le monde est 0)\n",
    "TARGET_HEIGHT = robot.placement(q0, 1).translation[2] \n",
    "print(f\"Hauteur cible du torse définie à : {TARGET_HEIGHT:.3f} m\")\n",
    "\n",
    "\n",
    "def cost(q):\n",
    "    legs_cost = 0.0\n",
    "    for i in range(4):\n",
    "        p_i = robot.framePlacement(q, robot.feetIndexes[i]).translation\n",
    "        legs_cost += norm(p_i - targets[i])**2\n",
    "    return legs_cost\n",
    "\n",
    "def orientation_constraint(q):\n",
    "    \n",
    "    # On récupère la pose complète du torse\n",
    "    base_pose = robot.placement(q, 1)\n",
    "    \n",
    "    # --- Contrainte d'orientation ---\n",
    "    base_rotation = base_pose.rotation\n",
    "    rpy = pin.rpy.matrixToRpy(base_rotation)\n",
    "    orientation_constraints = rpy[:2]  # [roll, pitch]\n",
    "\n",
    "    # --- Contrainte de hauteur (éviter qu'il reste applatit au sol ---\n",
    "    current_height = base_pose.translation[2] # On prend la coordonnée Z\n",
    "    height_constraint = current_height - TARGET_HEIGHT\n",
    "\n",
    "    return np.array([\n",
    "        orientation_constraints[0],  # Roulis\n",
    "        orientation_constraints[1],  # Tangage\n",
    "        height_constraint           # Erreur de hauteur\n",
    "    ])\n",
    "    \n",
    "\n",
    "def callback(q):\n",
    "\n",
    "    # Met à jour la position des sphères \"actuelles\" pour qu'elles suivent les pattes\n",
    "    for i in range(4):\n",
    "        p_i = robot.framePlacement(q, robot.feetIndexes[i]).translation\n",
    "        pose_actuelle = pin.SE3(np.eye(3), p_i)\n",
    "        viz.applyConfiguration(f'world/{FRAME_NAMES[i]}', pose_actuelle)\n",
    "\n",
    "    # Affiche la nouvelle configuration du robot\n",
    "    viz.display(q)\n",
    "    time.sleep(1)  # Petite pause pour que l'animation soit visible\n",
    "\n",
    "\n",
    "for i in range(4):\n",
    "    target_pose = pin.SE3(np.eye(3), targets[i]) # Crée une pose (SE3) à partir de la position cible\n",
    "    viz.applyConfiguration(f'world/{FRAME_NAMES[i]}_des', target_pose)\n",
    "\n",
    "#q_optimal = fmin_bfgs(cost, robot.q0, callback=callback)\n",
    "\n",
    "with_bfgs = 1\n",
    "if with_bfgs:\n",
    "    q_optimal = fmin_bfgs(cost, robot.q0, callback=callback)\n",
    "else:\n",
    "    q_optimal = fmin_slsqp(\n",
    "        cost, robot.q0, callback=callback, f_eqcons=orientation_constraint, iprint=2, full_output=1\n",
    "    )[0]\n",
    "print(\"\\n *** q_optimal = %s\\n\\n\\n\\n\" % q_optimal)\n",
    "\n",
    "\n"
   ]
  },
  {
   "cell_type": "code",
   "execution_count": 132,
   "metadata": {},
   "outputs": [
    {
     "name": "stdout",
     "output_type": "stream",
     "text": [
      "Hauteur cible du torse définie à : 0.235 m\n",
      "Lancement de l'optimisation avec la structure de code correcte...\n",
      "Optimization terminated successfully    (Exit mode 0)\n",
      "            Current function value: 2.1702524152064885e-06\n",
      "            Iterations: 25\n",
      "            Function evaluations: 504\n",
      "            Gradient evaluations: 25\n",
      "Optimisation terminée.\n"
     ]
    }
   ],
   "source": [
    "from scipy.optimize import fmin_bfgs, fmin_slsqp\n",
    "\n",
    "# Récupérer les identifiants numériques (indices) des pattes pour des calculs rapides\n",
    "# C'est plus efficace que de chercher par nom ('HR_FOOT') à chaque fois\n",
    "FRAME_NAMES = ['HR_FOOT', 'HL_FOOT', 'FR_FOOT', 'FL_FOOT']\n",
    "robot.feetIndexes = [robot.model.getFrameId(frameName) for frameName in FRAME_NAMES]\n",
    "\n",
    "\n",
    "\n",
    "# Ajouter des sphères dans le visualiseur pour représenter les cibles et les positions actuelles des pattes\n",
    "colors = ['red', 'blue', 'green', 'magenta']\n",
    "for i, color in enumerate(colors):\n",
    "    # Sphère pour la position ACTUELLE de la patte i\n",
    "    viz.addSphere(f\"world/{FRAME_NAMES[i]}\", 0.05, color)\n",
    "    # Sphère pour la position DÉSIRÉE (cible) de la patte i\n",
    "    viz.addSphere(f\"world/{FRAME_NAMES[i]}_des\", 0.05, color)\n",
    "\n",
    "targets = [\n",
    "    np.array([-0.3, -0.15, 0.2]), # Cible pour la patte HR (arrière-droite)\n",
    "    np.array([-0.3,  0.15, 0.0]), # Cible pour la patte HL (arrière-gauche)\n",
    "    np.array([ 0.3, -0.15, 0.0]), # Cible pour la patte FR (avant-droite)\n",
    "    np.array([ 0.3,  0.15, 0.0])  # Cible pour la patte FL (avant-gauche)\n",
    "]\n",
    "\n",
    "for i in range(4):\n",
    "    target_pose = pin.SE3(np.eye(3), targets[i]) # Crée une pose (SE3) à partir de la position cible\n",
    "    viz.applyConfiguration(f'world/{FRAME_NAMES[i]}_des', target_pose)\n",
    "\n",
    "# --- Cibles et constantes ---\n",
    "q0 = robot.q0\n",
    "viz.display(robot.q0)\n",
    "pin.forwardKinematics(robot.model, robot.data, q0) #compute \n",
    "\n",
    "# L'ID du joint de base est 1\n",
    "TARGET_HEIGHT = robot.data.oMi[1].translation[2]\n",
    "print(f\"Hauteur cible du torse définie à : {TARGET_HEIGHT:.3f} m\")\n",
    "\n",
    "\n",
    "# --- Fonctions d'Optimisation ---\n",
    "\n",
    "def cost(q):\n",
    "    \"\"\"Calcule le coût : la somme des distances au carré entre les pieds et les cibles.\"\"\"\n",
    "    # Met à jour TOUTES les positions des articulations et des frames pour la configuration q\n",
    "    pin.forwardKinematics(robot.model, robot.data, q)\n",
    "    pin.updateFramePlacements(robot.model, robot.data)\n",
    "    \n",
    "    legs_cost = 0.0\n",
    "    for i in range(4):\n",
    "        # Lit la position du pied (frame) directement depuis robot.data (rapide)\n",
    "        foot_pos = robot.data.oMf[robot.feetIndexes[i]].translation\n",
    "        legs_cost += norm(foot_pos - targets[i])**2\n",
    "        \n",
    "    return legs_cost\n",
    "\n",
    "def robot_pose_constraint(q):\n",
    "    \"\"\"Calcule les erreurs de contrainte (qui doivent être nulles).\"\"\"\n",
    "    # S'assure que les données cinématiques sont à jour pour la configuration q\n",
    "    pin.forwardKinematics(robot.model, robot.data, q)\n",
    "    \n",
    "    # Lit la pose du torse (joint 1) directement depuis robot.data (rapide)\n",
    "    base_pose = robot.data.oMi[1]\n",
    "    \n",
    "    # Contrainte d'orientation (Roulis et Tangage nuls)\n",
    "    rpy = pin.rpy.matrixToRpy(base_pose.rotation)\n",
    "    orientation_error = rpy[:2]  # [roll_error, pitch_error]\n",
    "    \n",
    "    # Contrainte de hauteur\n",
    "    height_error = base_pose.translation[2] - TARGET_HEIGHT\n",
    "    \n",
    "    return np.array([orientation_error[0], orientation_error[1], height_error])\n",
    "\n",
    "def callback(q):\n",
    "    \"\"\"Callback pour la visualisation.\"\"\"\n",
    "    # On doit mettre à jour les placements pour le 'q' actuel fourni par l'optimiseur\n",
    "    pin.forwardKinematics(robot.model, robot.data, q)\n",
    "    pin.updateFramePlacements(robot.model, robot.data)\n",
    "    \n",
    "    # Affiche le robot\n",
    "    viz.display(q)\n",
    "    \n",
    "    # Met à jour les sphères aux positions actuelles des pieds\n",
    "    for i in range(4):\n",
    "        foot_pos = robot.data.oMf[robot.feetIndexes[i]].translation\n",
    "        viz.applyConfiguration(f'world/{FRAME_NAMES[i]}', pin.SE3(np.eye(3), foot_pos))\n",
    "        \n",
    "    time.sleep(5e-1)\n",
    "\n",
    "# --- Lancement de l'Optimisation ---\n",
    "print(\"Lancement de l'optimisation avec la structure de code correcte...\")\n",
    "q_optimal = fmin_slsqp(\n",
    "    func=cost,\n",
    "    x0=q0,\n",
    "    f_eqcons=robot_pose_constraint,\n",
    "    callback=callback\n",
    ")\n",
    "print(\"Optimisation terminée.\")\n"
   ]
  },
  {
   "cell_type": "markdown",
   "metadata": {},
   "source": [
    "## Configuration of parallel robots\n",
    "A parallel robot is composed of several kinematic chains (called the robot legs) that are all attached to the same end effector. This imposes strict constraints in the configuration space of the robot: a configuration is valide iff all the legs meets the same end-effector placement. We consider here only the geometry aspect of parallel robots (additionnally, some joints are not actuated, which causes additional problems).\n",
    "\n",
    "The kinematic structure of a paralel robot indeed induces loops in the joint connection graph. In Pinocchio, we can only represents (one of) the underlying kinematic tree. The loop constraints have to be handled separately. An example that loads 4 manipulator arms is given below."
   ]
  },
  {
   "cell_type": "code",
   "execution_count": 133,
   "metadata": {},
   "outputs": [],
   "source": [
    "from supaero2025. load_ur5_parallel import load_ur5_parallel  # noqa: E402\n",
    "\n",
    "robot = load_ur5_parallel()"
   ]
  },
  {
   "cell_type": "code",
   "execution_count": 134,
   "metadata": {
    "scrolled": true
   },
   "outputs": [
    {
     "name": "stdout",
     "output_type": "stream",
     "text": [
      "You can open the visualizer by visiting the following URL:\n",
      "http://127.0.0.1:7008/static/\n"
     ]
    }
   ],
   "source": [
    "viz = MeshcatVisualizer(robot)\n",
    "#viz.viewer.jupyter_cell()"
   ]
  },
  {
   "cell_type": "code",
   "execution_count": 135,
   "metadata": {},
   "outputs": [],
   "source": [
    "viz.display(robot.q0)"
   ]
  },
  {
   "cell_type": "code",
   "execution_count": 136,
   "metadata": {},
   "outputs": [],
   "source": [
    "[w, h, d] = [0.5, 0.5, 0.005]\n",
    "color = [red, green, blue, transparency] = [1, 1, 0.78, .8]\n",
    "viz.addBox('world/robot0/toolplate', [w, h, d], color)\n",
    "Mtool = pin.SE3(pin.utils.rotate('z', 1.268), np.array([0, 0, .75]))\n",
    "viz.applyConfiguration('world/robot0/toolplate', Mtool)"
   ]
  },
  {
   "cell_type": "markdown",
   "metadata": {},
   "source": [
    "The 4 legs of the robot are loaded in a single robot model. The 4 effector placements are computed by:"
   ]
  },
  {
   "cell_type": "code",
   "execution_count": 137,
   "metadata": {},
   "outputs": [
    {
     "data": {
      "text/plain": [
       "SE3(array([[-7.07106781e-01, -7.07106781e-01, -3.46244649e-12,  3.06121952e-01],[ 7.07106781e-01, -7.07106781e-01, -3.46235989e-12,  1.60483362e-01],[-6.12323400e-17, -4.89663865e-12,  1.00000000e+00,  7.49342017e-01],[ 0.00000000e+00,  0.00000000e+00,  0.00000000e+00,  1.00000000e+00]]))"
      ]
     },
     "execution_count": 137,
     "metadata": {},
     "output_type": "execute_result"
    }
   ],
   "source": [
    "effIdxs = [robot.model.getFrameId('tool0_#%d' % i) for i in range(4)]\n",
    "robot.framePlacement(robot.q0, effIdxs[0])"
   ]
  },
  {
   "cell_type": "markdown",
   "metadata": {},
   "source": [
    "The loop constraints are that the relative placement of every leg end-effector must stay the same that in the initial configuration given as example in with the configuration *robot.q0* and the plate placement *Mtool*. To be valid, a configuration *q* must satisfy these 4 relative placement constraints.\n",
    "\n",
    "Consider now that the orientation of the tool plate is given by the following quaternion, with the translation that you like (see [the notebook about rotations if you need more details](appendix1_quaternions.ipynb)): \n",
    "\n"
   ]
  },
  {
   "cell_type": "code",
   "execution_count": 122,
   "metadata": {},
   "outputs": [
    {
     "name": "stdout",
     "output_type": "stream",
     "text": [
      "[[ 0.13978495 -0.8172043   0.55913978]\n",
      " [ 0.98924731  0.13978495 -0.04301075]\n",
      " [-0.04301075  0.55913978  0.82795699]]\n"
     ]
    }
   ],
   "source": [
    "quat = pin.Quaternion(0.7, 0.2, 0.2, 0.6).normalized()\n",
    "print(quat.matrix())"
   ]
  },
  {
   "cell_type": "markdown",
   "metadata": {},
   "source": [
    "**Find using the above optimization routines the configuration of each robot leg so that the loop constraints are all met** for the new orientation of the plate."
   ]
  },
  {
   "cell_type": "code",
   "execution_count": 139,
   "metadata": {},
   "outputs": [
    {
     "name": "stdout",
     "output_type": "stream",
     "text": [
      "You can open the visualizer by visiting the following URL:\n",
      "http://127.0.0.1:7010/static/\n"
     ]
    }
   ],
   "source": [
    "import gepetuto.magic\n",
    "import time\n",
    "import math\n",
    "import numpy as np\n",
    "from numpy.linalg import norm\n",
    "import pinocchio as pin\n",
    "import example_robot_data as robex\n",
    "from scipy.optimize import fmin_bfgs\n",
    "\n",
    "from supaero2025. load_ur5_parallel import load_ur5_parallel  # noqa: E402\n",
    "\n",
    "robot = load_ur5_parallel()\n",
    "\n",
    "viz = MeshcatVisualizer(robot)"
   ]
  },
  {
   "cell_type": "code",
   "execution_count": 172,
   "metadata": {},
   "outputs": [],
   "source": [
    "# Positions initiales des éléments \n",
    "q0 = robot.q0\n",
    "viz.display(robot.q0)\n",
    "\n",
    "# On met à jour les données du robot\n",
    "pin.forwardKinematics(robot.model, robot.data, q0)\n",
    "pin.updateFramePlacements(robot.model, robot.data)\n",
    "\n",
    "# Définition et placement d'une plaque (\"toolplate\")\n",
    "[w, h, d] = [0.5, 0.5, 0.005] # width, height, depth\n",
    "color = [1, 1, 0.78, 0.8] # R, G, B, Alpha (transparence)\n",
    "viz.addBox('world/robot0/toolplate', [w, h, d], color)\n",
    "\n",
    "# Définition de la pose initiale de la plaque (posée sur les 4 effecteurs)\n",
    "Mtool_orig = pin.SE3(pin.utils.rotate('z', 1.268), np.array([0, 0, .75]))\n",
    "viz.applyConfiguration('world/robot0/toolplate', Mtool_orig)\n"
   ]
  },
  {
   "cell_type": "code",
   "execution_count": 173,
   "metadata": {},
   "outputs": [],
   "source": [
    "# IDs des effecteurs (les 4 \"mains\" du robot)\n",
    "effIdxs = [robot.model.getFrameId('tool0_#%d' % i) for i in range(4)]\n",
    "\n",
    "# Le quaternion donné pour la nouvelle orientation\n",
    "new_orientation = pin.Quaternion(0.7, 0.2, 0.2, 0.6).normalized()\n",
    "# On choisit une nouvelle translation (par exemple, un peu plus haut et vers l'avant)\n",
    "new_translation = np.array([0.4, 0.0, 0.6])\n",
    "\n",
    "# Nouvelle pose cible pour la plaque\n",
    "o_M_tool_new = pin.SE3(new_orientation.toRotationMatrix(), new_translation)\n",
    "\n",
    "# Visualisation de la nouvelle plaque cible pour voir où on doit aller\n",
    "viz.addBox('world/TARGET_PLATE', [0.5, 0.5, 0.005], [0.1, 0.8, 0.2, 0.5]) # Vert transparent\n",
    "viz.applyConfiguration('world/TARGET_PLATE', o_M_tool_new)\n",
    "\n"
   ]
  },
  {
   "cell_type": "code",
   "execution_count": 174,
   "metadata": {},
   "outputs": [
    {
     "name": "stdout",
     "output_type": "stream",
     "text": [
      "Optimization terminated successfully.\n",
      "         Current function value: 0.000000\n",
      "         Iterations: 48\n",
      "         Function evaluations: 1325\n",
      "         Gradient evaluations: 53\n"
     ]
    }
   ],
   "source": [
    "# On calcule la pose de chaque effecteur par rapport à la plaque (On voudra garder ces données constantes)\n",
    "tool_M_effs_target = []\n",
    "for idx in effIdxs:\n",
    "    o_M_eff = robot.data.oMf[idx]\n",
    "    # La relation est tool_M_eff = (o_M_tool)⁻¹ * o_M_eff\n",
    "    tool_M_eff = Mtool_orig.inverse() * o_M_eff\n",
    "    tool_M_effs_target.append(tool_M_eff)\n",
    "\n",
    "def cost(q):\n",
    "    \"\"\"\n",
    "    Calcule l'erreur totale pour une configuration q.\n",
    "    L'erreur est la somme des distances (au carré) entre les positions\n",
    "    actuelles des effecteurs et leurs positions cibles.\n",
    "    \"\"\"\n",
    "    # ÉTAPE CRUCIALE: Mettre à jour la géométrie du robot pour la config 'q' testée\n",
    "    pin.forwardKinematics(robot.model, robot.data, q)\n",
    "    pin.updateFramePlacements(robot.model, robot.data)\n",
    "    \n",
    "    total_error = 0.0\n",
    "    \n",
    "    for i in range(len(effIdxs)):\n",
    "        # La pose cible de l'effecteur i dans le monde\n",
    "        o_M_eff_target = o_M_tool_new * tool_M_effs_target[i]\n",
    "        \n",
    "        # La pose actuelle de l'effecteur i dans le monde\n",
    "        o_M_eff_current = robot.data.oMf[effIdxs[i]]\n",
    "        \n",
    "        # On calcule l'erreur entre la pose actuelle et la pose cible.\n",
    "        # Pinocchio propose un outil parfait pour cela: pin.log\n",
    "        # Il transforme une SE3 (l'erreur de pose) en un vecteur 6D.\n",
    "        error_transform = o_M_eff_current.inverse() * o_M_eff_target\n",
    "        error_vector = pin.log(error_transform).vector\n",
    "        \n",
    "        # On ajoute le carré de la norme de ce vecteur d'erreur au coût total\n",
    "        total_error += np.sum(error_vector**2)\n",
    "        \n",
    "    return total_error\n",
    "\n",
    "def callback(q):\n",
    "    # 1. Mettre à jour les données du robot pour la configuration 'q'\n",
    "    pin.forwardKinematics(robot.model, robot.data, q)np.dot(np.linalg.pinv(o_Jtool3), o_Jtool3) \n",
    "    pin.updateFramePlacements(robot.model, robot.data)\n",
    "    \n",
    "    # 2. Afficher le robot lui-même\n",
    "    viz.display(q)\n",
    "    \n",
    "    # 3. Calculer où se trouve la plaque en se basant sur la position actuelle d'un effecteur\n",
    "    o_M_eff0_current = robot.data.oMf[effIdxs[0]]\n",
    "    tool_M_eff0 = tool_M_effs_target[0]\n",
    "    \n",
    "    # On reconstruit la pose de la plaque à partir de la pose d'un effecteur\n",
    "    o_M_tool_current = o_M_eff0_current * tool_M_eff0.inverse()\n",
    "    \n",
    "    # On met à jour la position de notre unique plaque dans le visualiseur\n",
    "    viz.applyConfiguration('world/robot0/toolplate', o_M_tool_current)\n",
    "    \n",
    "    time.sleep(0.05)\n",
    "    \n",
    "\n",
    "q_solution = fmin_bfgs(cost, q0, callback=callback)\n",
    "#viz.display(q_solution)\n"
   ]
  },
  {
   "cell_type": "code",
   "execution_count": null,
   "metadata": {},
   "outputs": [],
   "source": []
  }
 ],
 "metadata": {
  "kernelspec": {
   "display_name": "Python 3 (ipykernel)",
   "language": "python",
   "name": "python3"
  },
  "language_info": {
   "codemirror_mode": {
    "name": "ipython",
    "version": 3
   },
   "file_extension": ".py",
   "mimetype": "text/x-python",
   "name": "python",
   "nbconvert_exporter": "python",
   "pygments_lexer": "ipython3",
   "version": "3.12.3"
  }
 },
 "nbformat": 4,
 "nbformat_minor": 4
}
