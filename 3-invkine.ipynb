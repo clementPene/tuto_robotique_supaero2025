{
 "cells": [
  {
   "cell_type": "markdown",
   "metadata": {},
   "source": [
    "# Inverse kinematics\n",
    "This notebook considers the problem of inverse kinematics, ie solving at each control cycle of the robot a quadratic program from the derivatives (jacobian) of the current state. It introduces the basic function to compute the Jacobians of the robot, and how to use them to compute an inverse-kinematics control law. One of the key difficulties is to understand in which frames each quantities is computed (might be in the world frame, in the local frame attached to the end effector, in some arbitrary goal frame, etc), as we should never mixed quantities expressed in different frames without transporting them in the right frame. \n"
   ]
  },
  {
   "cell_type": "code",
   "execution_count": 1,
   "metadata": {},
   "outputs": [
    {
     "name": "stdout",
     "output_type": "stream",
     "text": [
      "NB: as for all the tutorials, a magic command %do_not_load is introduced to hide\n",
      "    the solutions to some questions. Change it for %load if you want to see (and\n",
      "    execute) the solution.\n"
     ]
    }
   ],
   "source": [
    "import gepetuto.magic"
   ]
  },
  {
   "cell_type": "markdown",
   "metadata": {},
   "source": [
    "## Set up\n",
    "We will use a Gepetto-viewer, and the linear algebra of NumPy."
   ]
  },
  {
   "cell_type": "code",
   "execution_count": 2,
   "metadata": {},
   "outputs": [],
   "source": [
    "# %load tp3/generated/inverse_kinematics_import\n",
    "import pinocchio as pin\n",
    "import numpy as np\n",
    "import time\n",
    "from numpy.linalg import pinv,inv,norm,svd,eig\n",
    "from tp3.tiago_loader import loadTiago\n",
    "import matplotlib.pylab as plt\n",
    "from supaero2025.meshcat_viewer_wrapper import MeshcatVisualizer\n",
    "import unittest\n"
   ]
  },
  {
   "cell_type": "markdown",
   "metadata": {},
   "source": [
    "We will use the Tiago robot (https://youtu.be/6BwRqwD066g). This mobile manipulator from PAL Robotics as a mobile basis which can move in the plane (3 dof), a manipulator arm (7 dof) and a head (2 dof) both mounted on a prismatic axis moving vertically (1 dof). This makes 3 dof for the basis, and 9 dof for the body. It also has 2 extra joints tot figure the wheels, which are not very useful for this notebook. The wheels and the basis rotations are represented by the cos and sin of the angle. The size of the configuration vector is then 18, while the velocity vector has dimension 15.\n",
    "\n",
    "A load function is available to make it easy to load the robot."
   ]
  },
  {
   "cell_type": "code",
   "execution_count": 3,
   "metadata": {},
   "outputs": [
    {
     "name": "stderr",
     "output_type": "stream",
     "text": [
      "/home/cpene/Documents/supaero2025/tp3/tiago_loader.py:89: UserWarning: Deprecated member. Use Frame.parentJoint instead.\n",
      "  JIDX = robot.model.frames[FIDX].parent\n",
      "/home/cpene/Documents/supaero2025/tp3/tiago_loader.py:97: UserWarning: This function has been marked as deprecated and will be removed in a future release.\n",
      "  pin.GeometryObject(\"axis_x\", FIDX, JIDX, cyl, pin.SE3(X, X @ med + eff))\n",
      "/home/cpene/Documents/supaero2025/tp3/tiago_loader.py:102: UserWarning: This function has been marked as deprecated and will be removed in a future release.\n",
      "  pin.GeometryObject(\"axis_y\", FIDX, JIDX, cyl, pin.SE3(Y, Y @ med + eff))\n",
      "/home/cpene/Documents/supaero2025/tp3/tiago_loader.py:107: UserWarning: This function has been marked as deprecated and will be removed in a future release.\n",
      "  pin.GeometryObject(\"axis_z\", FIDX, JIDX, cyl, pin.SE3(Z, Z @ med + eff))\n",
      "/home/cpene/Documents/supaero2025/tp3/tiago_loader.py:115: UserWarning: Deprecated member. Use Frame.parentJoint instead.\n",
      "  JIDX = robot.model.frames[FIDX].parent\n",
      "/home/cpene/Documents/supaero2025/tp3/tiago_loader.py:123: UserWarning: This function has been marked as deprecated and will be removed in a future release.\n",
      "  pin.GeometryObject(\"axis2_x\", FIDX, JIDX, cyl, pin.SE3(X, X @ med + eff))\n",
      "/home/cpene/Documents/supaero2025/tp3/tiago_loader.py:128: UserWarning: This function has been marked as deprecated and will be removed in a future release.\n",
      "  pin.GeometryObject(\"axi2_y\", FIDX, JIDX, cyl, pin.SE3(Y, Y @ med + eff))\n",
      "/home/cpene/Documents/supaero2025/tp3/tiago_loader.py:133: UserWarning: This function has been marked as deprecated and will be removed in a future release.\n",
      "  pin.GeometryObject(\"axis2_z\", FIDX, JIDX, cyl, pin.SE3(Z, Z @ med + eff))\n"
     ]
    },
    {
     "name": "stdout",
     "output_type": "stream",
     "text": [
      "You can open the visualizer by visiting the following URL:\n",
      "http://127.0.0.1:7000/static/\n"
     ]
    }
   ],
   "source": [
    "# %load tp3/generated/inverse_kinematics_robot\n",
    "robot = loadTiago()\n",
    "viz = MeshcatVisualizer(robot)\n"
   ]
  },
  {
   "cell_type": "code",
   "execution_count": 4,
   "metadata": {},
   "outputs": [
    {
     "data": {
      "text/html": [
       "\n",
       "            <div style=\"height: 400px; width: 100%; overflow-x: auto; overflow-y: hidden; resize: both\">\n",
       "            <iframe src=\"http://127.0.0.1:7000/static/\" style=\"width: 100%; height: 100%; border: none\"></iframe>\n",
       "            </div>\n",
       "            "
      ],
      "text/plain": [
       "<IPython.core.display.HTML object>"
      ]
     },
     "execution_count": 4,
     "metadata": {},
     "output_type": "execute_result"
    }
   ],
   "source": [
    "viz.viewer.jupyter_cell()"
   ]
  },
  {
   "cell_type": "markdown",
   "metadata": {},
   "source": [
    "The configuration is represented by a vector of larger dimension, subject to constraints (cos^2+sin^2=1). It is not possible to randomly sample a configuration vector q, as these constraints should be respected. Similarly, we should take care when integrating a velocity as summing a configuration q with a velocity v will not work (dimensions do not match). Two functions in Pinocchio implements these functionnalities."
   ]
  },
  {
   "cell_type": "code",
   "execution_count": 10,
   "metadata": {},
   "outputs": [],
   "source": [
    "q = pin.randomConfiguration(robot.model)\n",
    "viz.display(q)"
   ]
  },
  {
   "cell_type": "code",
   "execution_count": 7,
   "metadata": {},
   "outputs": [],
   "source": [
    "q = pin.randomConfiguration(robot.model)\n",
    "vq = np.random.rand(robot.model.nv)*2-1\n",
    "DT = 1e-2\n",
    "qnext = pin.integrate(robot.model,q,vq*DT)"
   ]
  },
  {
   "cell_type": "markdown",
   "metadata": {},
   "source": [
    "A simple example moving the robot in the viewer following a constant (random) velocity is as follows."
   ]
  },
  {
   "cell_type": "code",
   "execution_count": 8,
   "metadata": {},
   "outputs": [],
   "source": [
    "for t in range(1000):\n",
    "    q = pin.integrate(robot.model,q,vq*DT)\n",
    "    viz.display(q)\n",
    "    time.sleep(DT/10)"
   ]
  },
  {
   "cell_type": "markdown",
   "metadata": {},
   "source": [
    "The robot is mobile, hence the camera view in the viewer is not always centered. "
   ]
  },
  {
   "cell_type": "markdown",
   "metadata": {},
   "source": [
    "## Forward kinematics and Jacobian\n",
    "We recall first the basic method to compute the robot forward kinematics.\n",
    "We will consider two frames of interest on the robot: the first one, named <tool> is at the tip of the end-effector ; the second one, named <basis>, is on the front of the robot basis, 10 cm above the ground. Both are represented in Gepetto-Viewer by a frame composed of three RGB arrows. "
   ]
  },
  {
   "cell_type": "code",
   "execution_count": 27,
   "metadata": {},
   "outputs": [],
   "source": [
    "# %load tp3/generated/inverse_kinematics_frames\n",
    "IDX_TOOL = robot.model.getFrameId('frametool')\n",
    "IDX_BASIS = robot.model.getFrameId('framebasis')\n"
   ]
  },
  {
   "cell_type": "code",
   "execution_count": 28,
   "metadata": {},
   "outputs": [
    {
     "data": {
      "text/plain": [
       "Frame name: framebasis paired to (parent joint/ parent frame)(1/4)\n",
       "with relative placement wrt parent joint:\n",
       "  R =\n",
       "1 0 0\n",
       "0 1 0\n",
       "0 0 1\n",
       "  p =  0.3    0 0.15\n",
       "containing inertia:\n",
       "  m = 0\n",
       "  c = 0 0 0\n",
       "  I = \n",
       "0 0 0\n",
       "0 0 0\n",
       "0 0 0"
      ]
     },
     "execution_count": 28,
     "metadata": {},
     "output_type": "execute_result"
    }
   ],
   "source": [
    "robot.model.frames[IDX_BASIS]"
   ]
  },
  {
   "cell_type": "markdown",
   "metadata": {},
   "source": [
    "### Computing frame placement\n",
    "These frames are computed by the Pinocchio function framesForwardKinematics, whose results are stored in robot.data.oMf.     "
   ]
  },
  {
   "cell_type": "code",
   "execution_count": 29,
   "metadata": {},
   "outputs": [
    {
     "name": "stdout",
     "output_type": "stream",
     "text": [
      "Tool placement:   R =\n",
      "  0.795779  -0.264573  -0.544736\n",
      "-0.0992236   0.830396  -0.548267\n",
      "  0.597403    0.49035    0.63456\n",
      "  p =  -1.19052 -0.762423   1.24373\n",
      "\n",
      "Basis placement:   R =\n",
      "-0.92244  0.38614        0\n",
      "-0.38614 -0.92244        0\n",
      "       0        0        1\n",
      "  p =  -1.23669 -0.200438      0.15\n",
      "\n"
     ]
    }
   ],
   "source": [
    "pin.framesForwardKinematics(robot.model,robot.data,q)\n",
    "print(\"Tool placement:\",robot.data.oMf[IDX_TOOL])\n",
    "print(\"Basis placement:\",robot.data.oMf[IDX_BASIS])"
   ]
  },
  {
   "cell_type": "markdown",
   "metadata": {},
   "source": [
    "It is very important to notice the instruction pattern (which is standard in all Pinocchion functions): first call a whole-body algorithm (here *pin.framesForwardKinematics*), then access the results into *robot.data*. "
   ]
  },
  {
   "cell_type": "markdown",
   "metadata": {},
   "source": [
    "The tool-placement matrix oMtool represents the displacement from the world frame F_o to the tool frame F_tool. It is composed on a rotation matrix oRtool and a 3D vector o_OT: oMf = [ oRf o_OT ], when o_OT is the vector from the origin of frame F_o to the origin of from F_tool ; this vector is expressed in the world frame F_o. We can rather express OT in the tool frame F_tool by multiplying it by oRtool:"
   ]
  },
  {
   "cell_type": "code",
   "execution_count": 30,
   "metadata": {},
   "outputs": [],
   "source": [
    "oMtool = robot.data.oMf[IDX_TOOL]\n",
    "oRtool = oMtool.rotation; o_OT = oMtool.translation\n",
    "tool_OT = oRtool.T @ o_OT"
   ]
  },
  {
   "cell_type": "markdown",
   "metadata": {},
   "source": [
    "Take care to the multiplication operator in numpy. The operator* is (unintuitively) mapped to the coefficient-wise multiplication ... i.e. not at all the matrix multiplication. You should use the operator @ to get the real matrix-matrix product. \n",
    "Never mind, you will likely be tricked at least once by this design pattern. If you don't like it ... well there is nothing to do, this is the basic matrix library in Python, the world most used language. "
   ]
  },
  {
   "cell_type": "markdown",
   "metadata": {},
   "source": [
    "### Computing Jacobians\n",
    "The jacobian of a frame of the robot is computed using pio.computeFrameJacobian."
   ]
  },
  {
   "cell_type": "code",
   "execution_count": 31,
   "metadata": {},
   "outputs": [
    {
     "data": {
      "text/plain": [
       "(6, 15)"
      ]
     },
     "execution_count": 31,
     "metadata": {},
     "output_type": "execute_result"
    }
   ],
   "source": [
    "Jtool = pin.computeFrameJacobian(robot.model,robot.data,q,IDX_TOOL)\n",
    "Jtool.shape"
   ]
  },
  {
   "cell_type": "markdown",
   "metadata": {},
   "source": [
    "This matrix has 6 rows and NV=15 columns. It corresponds to the \"spatial\" 6D velocity of the end effector. Let's first focus on the 3 first rows, corresponding to the linear velocity."
   ]
  },
  {
   "cell_type": "code",
   "execution_count": 32,
   "metadata": {},
   "outputs": [],
   "source": [
    "Jtool3 = Jtool[:3,:]"
   ]
  },
  {
   "cell_type": "markdown",
   "metadata": {},
   "source": [
    "#### Jacobian as a velocity operator\n",
    "A first way to understand what is this matrix is to see that as an operator that converts the velocity in the configuration space into the linear velocity of the end effector."
   ]
  },
  {
   "cell_type": "code",
   "execution_count": 33,
   "metadata": {},
   "outputs": [],
   "source": [
    "vtool = Jtool3 @ vq"
   ]
  },
  {
   "cell_type": "markdown",
   "metadata": {},
   "source": [
    "But in which frame is vtool expressed? The choice in Pinocchio (following algorithmic principles described in [Featherstone 2009]) is to expressed quantities in the local frame by default. So vtool is expressed in the tool frame F_tool (or more precisely, the Galilean frame coinciding with F_tool at the current time instant). We should better denote it with its frame."
   ]
  },
  {
   "cell_type": "code",
   "execution_count": 34,
   "metadata": {},
   "outputs": [],
   "source": [
    "tool_Jtool = pin.computeFrameJacobian(robot.model,robot.data,q,IDX_TOOL)\n",
    "tool_Jtool3 = tool_Jtool[:3,:]\n",
    "tool_vtool = tool_Jttheool3 @ vq"
   ]
  },
  {
   "cell_type": "markdown",
   "metadata": {},
   "source": [
    "We are using here long variable names. In the code, these explicit notations are maybe to much. It is your choice to use them or not. For sure, you should use similar notations on the paper board when formulating your algorithm, but maybe you prefer lighter variable naming for implementing it.\n",
    "The tool velocity is easier to interpret in the world frame."
   ]
  },
  {
   "cell_type": "code",
   "execution_count": 35,
   "metadata": {},
   "outputs": [],
   "source": [
    "o_vtool = oRtool @ tool_vtool"
   ]
  },
  {
   "cell_type": "markdown",
   "metadata": {},
   "source": [
    "We generalize this notation to the jacobian expressed in the world frame F_o:"
   ]
  },
  {
   "cell_type": "code",
   "execution_count": 36,
   "metadata": {},
   "outputs": [],
   "source": [
    "o_Jtool3 = oRtool @ tool_Jtool3"
   ]
  },
  {
   "cell_type": "markdown",
   "metadata": {},
   "source": [
    "#### Jacobian as a derivative\n",
    "A second interpretation to explain what is the jacobian is to observe that it is the derivative of the vector o_OT (the tool position in world frame). Indeed o_OT is a function of q: o_OT(q). We can take its derivative with respect to q, denoted d o_OT / dq. This derivatives is equal to the Jacobian expressed in the world frame F_o: d o_OT / dq = o_Jtool.\n",
    "To be convinced of that, let's check the finite differences. We take a small movement dq, and see that the change in position o_OT(q+dq) corresponds to the linear prediction o_Jtool3*dq."
   ]
  },
  {
   "cell_type": "code",
   "execution_count": 37,
   "metadata": {},
   "outputs": [
    {
     "name": "stdout",
     "output_type": "stream",
     "text": [
      "[-1.45112555  1.01751344  0.9290009 ]\n",
      "[-1.45175735  1.01651843  0.92898427]\n"
     ]
    }
   ],
   "source": [
    "# Sample between -0.001 and 0.001\n",
    "EPS = 1e-3\n",
    "dq = (np.random.rand(robot.model.nv)*2-1)*EPS\n",
    "\n",
    "# q2 = q+dq\n",
    "q2 = pin.integrate(robot.model,q,dq)                     \n",
    "pin.framesForwardKinematics(robot.model,robot.data,q)\n",
    "\n",
    "# tool position for q\n",
    "o_OT = robot.data.oMf[IDX_TOOL].translation.copy()\n",
    "\n",
    "# tool position for q+dq\n",
    "pin.framesForwardKinematics(robot.model,robot.data,q2)\n",
    "o_OT2 = robot.data.oMf[IDX_TOOL].translation.copy()\n",
    "\n",
    "print((o_OT2 - o_OT)/EPS)\n",
    "print((o_Jtool3@dq/EPS))"
   ]
  },
  {
   "cell_type": "code",
   "execution_count": null,
   "metadata": {},
   "outputs": [],
   "source": [
    "# petit recap sur les deux fonctions suivantes avant de commencer : \n",
    "# fonction getFrameJacobian\n",
    "# 1. Définir un état\n",
    "q = np.random.rand(robot.model.nq)\n",
    "vq = np.random.rand(robot.model.nv)\n",
    "\n",
    "# 2. Mettre à jour TOUTE la structure `data` en une seule fois\n",
    "# Cette fonction calcule les placements, vitesses, ET les Jacobiennes dont on a besoin.\n",
    "pin.forwardKinematics(robot.model, robot.data, q, vq)\n",
    "pin.computeJointJacobians(robot.model, robot.data, q)\n",
    "\n",
    "# 3. Récupérer les résultats dans le format souhaité (rapide et facile)\n",
    "# Jacobienne dans le repère MONDE\n",
    "o_J = pin.getFrameJacobian(robot.model, robot.data, IDX_TOOL, pin.ReferenceFrame.WORLD)\n",
    "\n",
    "# Jacobienne dans le repère LOCAL de l'outil\n",
    "tool_J = pin.getFrameJacobian(robot.model, robot.data, IDX_TOOL, pin.ReferenceFrame.LOCAL)\n",
    "\n",
    "# fonction updateFramePlacements\n",
    "q = np.random.rand(robot.model.nq)\n",
    "\n",
    "# Calculer seulement ce qui est requis par computeFrameJacobian (ici les cinématiques de base)\n",
    "pin.computeJointJacobians(robot.model, robot.data, q)\n",
    "pin.updateFramePlacements(robot.model, robot.data) # Important !\n",
    "\n",
    "# Calcule et retourne la Jacobienne en repère local\n",
    "tool_Jtool = pin.computeFrameJacobian(robot.model, robot.data, q, IDX_TOOL)\n",
    "\n",
    "# Si vous la voulez en repère monde, vous devez faire la transformation vous-même !\n",
    "o_R_tool = robot.data.oMf[IDX_TOOL].rotation\n",
    "o_Jtool = o_R_tool @ tool_Jtool # Erreur de débutant fréquente si on oublie cette ligne\n",
    "\n"
   ]
  },
  {
   "cell_type": "code",
   "execution_count": 42,
   "metadata": {},
   "outputs": [
    {
     "name": "stdout",
     "output_type": "stream",
     "text": [
      "Déplacement RÉEL:\n",
      " [0.69098047 0.34348898 0.29288852]\n",
      "\n",
      "Prédiction avec J[:3,:] (le texte):\n",
      " [0.69098147 0.34349728 0.34323339]\n",
      "\n",
      "Prédiction avec J[3:,:] (la convention):\n",
      " [-0.39004285 -0.89524172 -0.63433085]\n"
     ]
    }
   ],
   "source": [
    "# On veut prouver que (o_OT2 - o_OT) = J @ dq\n",
    "\n",
    "# conditions initiales q et vq\n",
    "q = np.random.rand(robot.model.nq)\n",
    "vq = np.random.rand(robot.model.nv)*2-1\n",
    "\n",
    "# on update les datas avec le modèle\n",
    "pin.forwardKinematics(robot.model, robot.data, q, vq)\n",
    "pin.computeJointJacobians(robot.model, robot.data, q)\n",
    "\n",
    "# On calcule la Jacobienne de l'outil dans un repère qui facilite la vérification\n",
    "# LOCAL_WORLD_ALIGNED signifie : exprimé dans des axes alignés sur le monde,\n",
    "# mais à l'origine de l'outil.\n",
    "# C'est dans CE repère que la partie linéaire de la Jacobienne est d(o_OT)/dq.\n",
    "o_Jtool_complete = pin.getFrameJacobian(robot.model, robot.data, IDX_TOOL, pin.ReferenceFrame.LOCAL_WORLD_ALIGNED)\n",
    "\n",
    "# ----------------- LE TEST CRUCIAL -----------------\n",
    "# Jacobienne \"linéaire\" selon le texte\n",
    "J_linear_selon_texte = o_Jtool_complete[:3, :]\n",
    "\n",
    "# L'expérience de la différence finie\n",
    "EPS = 1e-4\n",
    "dq = (np.random.rand(robot.model.nv)*2-1)*EPS\n",
    "\n",
    "# Position avant\n",
    "o_OT = robot.data.oMf[IDX_TOOL].translation.copy()\n",
    "\n",
    "# Position après\n",
    "q2 = pin.integrate(robot.model, q, dq)\n",
    "pin.framesForwardKinematics(robot.model, robot.data, q2)\n",
    "o_OT2 = robot.data.oMf[IDX_TOOL].translation.copy()\n",
    "\n",
    "# Le déplacement réel mesuré\n",
    "deplacement_reel = o_OT2 - o_OT\n",
    "print(\"Déplacement RÉEL:\\n\", deplacement_reel / EPS) # On divise par EPS pour avoir une \"vitesse\"\n",
    "\n",
    "# La prédiction avec la Jacobienne du texte\n",
    "prediction_texte = J_linear_selon_texte @ dq\n",
    "print(\"\\nPrédiction avec J[:3,:] (le texte):\\n\", prediction_texte / EPS)\n"
   ]
  },
  {
   "cell_type": "markdown",
   "metadata": {},
   "source": [
    "#### Frame options in Pinocchio\n",
    "Most algorithms accept an option to specify in wich frame the spatial quantity should be expressed. The two basic options are *pin.LOCAL* and *pin.WORLD*. When related to velocity, *LOCAL* is the linear velocity of the center of the local frame (the TOOL_IDX frame, here) and the angular velocity, both expressed in the local frame. With *WORLD* frame, the two velocities are expressed in the world frame ... but remember that the linear velocity is then difficult to interpret.\n",
    "\n",
    "A last option is given by convenience, which does not respect the mathematics of spatial velocity, but matches the French \"torseur cinématique\": pin.LOCAL_WORLD_ALIGNED gives the linear velocity of the center of the local frame and the angular velocity, both expressed in the world frame. It is convenient especially when we are interested to consider the linear velocity as the derivative of the position."
   ]
  },
  {
   "cell_type": "code",
   "execution_count": null,
   "metadata": {},
   "outputs": [],
   "source": [
    "o_Jtool = pin.computeFrameJacobian(robot.model,robot.data,q,IDX_TOOL,\n",
    "                                   pin.LOCAL_WORLD_ALIGNED)[:3,:]"
   ]
  },
  {
   "cell_type": "markdown",
   "metadata": {},
   "source": [
    "You may see this video which explain with more illustriations the 3 frame options:  https://youtu.be/MLFtHLTprE4 "
   ]
  },
  {
   "cell_type": "markdown",
   "metadata": {},
   "source": [
    "#### Jacobian in 6D\n",
    "The jacobian of the frame indeed as 6 rows, and corresponds to the spatial velocity of the frame. It is expressed locally, in the tool frame (or more precisely the Galilean frame coincinding with the tool frame to the current time instant)."
   ]
  },
  {
   "cell_type": "code",
   "execution_count": null,
   "metadata": {},
   "outputs": [],
   "source": [
    "tool_J = pin.computeFrameJacobian(robot.model,robot.data,q,IDX_TOOL)\n",
    "tool_nu = tool_J @ vq"
   ]
  },
  {
   "cell_type": "markdown",
   "metadata": {},
   "source": [
    "We denote by nu the spatial velocity. It is composed by the linear velocity of the center of the frame vtool and the angular velocity of the tool frame, both expressed in the tool frame: tool_nu = [ tool_vtool, tool_w ].\n",
    "\n"
   ]
  },
  {
   "cell_type": "code",
   "execution_count": null,
   "metadata": {},
   "outputs": [],
   "source": [
    "tool_vtool = tool_nu[:3] ; tool_w = tool_nu[3:]"
   ]
  },
  {
   "cell_type": "markdown",
   "metadata": {},
   "source": [
    "We can rather expressed the spatial velocity in the world frame F_o by multiplying it by the so-called action matrix oXtool."
   ]
  },
  {
   "cell_type": "code",
   "execution_count": null,
   "metadata": {},
   "outputs": [],
   "source": [
    "o_nu = oMtool.action @ tool_nu\n",
    "print(o_nu)"
   ]
  },
  {
   "cell_type": "markdown",
   "metadata": {},
   "source": [
    "#### Log in SE(3)\n",
    "Finally, the log operator transforms a displacement M in SE(3) into the spatial (6D) velocity that should be applied during 1 second to achieve this displacement. The spatial velocity is expressed in the frame at the origin of the displacement (i.e. nu=log(oMtool) is expressed in the world frame F_o). In Pinocchio, the log returns an object of class Motion, that can be converted to a numpy vector."
   ]
  },
  {
   "cell_type": "code",
   "execution_count": null,
   "metadata": {},
   "outputs": [],
   "source": [
    "o_nu = pin.log(oMtool).vector\n",
    "print(o_nu)"
   ]
  },
  {
   "cell_type": "markdown",
   "metadata": {},
   "source": [
    "## Inverse kinematics for the moving the robot effector\n",
    "We will first move only the robot end effector, to reach a target defined by a frame $F_{goal}$."
   ]
  },
  {
   "cell_type": "code",
   "execution_count": 1,
   "metadata": {},
   "outputs": [
    {
     "name": "stdout",
     "output_type": "stream",
     "text": [
      "NB: as for all the tutorials, a magic command %do_not_load is introduced to hide\n",
      "    the solutions to some questions. Change it for %load if you want to see (and\n",
      "    execute) the solution.\n"
     ]
    },
    {
     "name": "stderr",
     "output_type": "stream",
     "text": [
      "/home/cpene/Documents/supaero2025/tp3/tiago_loader.py:89: UserWarning: Deprecated member. Use Frame.parentJoint instead.\n",
      "  JIDX = robot.model.frames[FIDX].parent\n",
      "/home/cpene/Documents/supaero2025/tp3/tiago_loader.py:97: UserWarning: This function has been marked as deprecated and will be removed in a future release.\n",
      "  pin.GeometryObject(\"axis_x\", FIDX, JIDX, cyl, pin.SE3(X, X @ med + eff))\n",
      "/home/cpene/Documents/supaero2025/tp3/tiago_loader.py:102: UserWarning: This function has been marked as deprecated and will be removed in a future release.\n",
      "  pin.GeometryObject(\"axis_y\", FIDX, JIDX, cyl, pin.SE3(Y, Y @ med + eff))\n",
      "/home/cpene/Documents/supaero2025/tp3/tiago_loader.py:107: UserWarning: This function has been marked as deprecated and will be removed in a future release.\n",
      "  pin.GeometryObject(\"axis_z\", FIDX, JIDX, cyl, pin.SE3(Z, Z @ med + eff))\n",
      "/home/cpene/Documents/supaero2025/tp3/tiago_loader.py:115: UserWarning: Deprecated member. Use Frame.parentJoint instead.\n",
      "  JIDX = robot.model.frames[FIDX].parent\n",
      "/home/cpene/Documents/supaero2025/tp3/tiago_loader.py:123: UserWarning: This function has been marked as deprecated and will be removed in a future release.\n",
      "  pin.GeometryObject(\"axis2_x\", FIDX, JIDX, cyl, pin.SE3(X, X @ med + eff))\n",
      "/home/cpene/Documents/supaero2025/tp3/tiago_loader.py:128: UserWarning: This function has been marked as deprecated and will be removed in a future release.\n",
      "  pin.GeometryObject(\"axi2_y\", FIDX, JIDX, cyl, pin.SE3(Y, Y @ med + eff))\n",
      "/home/cpene/Documents/supaero2025/tp3/tiago_loader.py:133: UserWarning: This function has been marked as deprecated and will be removed in a future release.\n",
      "  pin.GeometryObject(\"axis2_z\", FIDX, JIDX, cyl, pin.SE3(Z, Z @ med + eff))\n"
     ]
    },
    {
     "name": "stdout",
     "output_type": "stream",
     "text": [
      "You can open the visualizer by visiting the following URL:\n",
      "http://127.0.0.1:7000/static/\n"
     ]
    }
   ],
   "source": [
    "import gepetuto.magic\n",
    "# %load tp3/generated/inverse_kinematics_import\n",
    "import pinocchio as pin\n",
    "import numpy as np\n",
    "import time\n",
    "from numpy.linalg import pinv,inv,norm,svd,eig\n",
    "from tp3.tiago_loader import loadTiago\n",
    "import matplotlib.pylab as plt\n",
    "from supaero2025.meshcat_viewer_wrapper import MeshcatVisualizer\n",
    "import unittest\n",
    "\n",
    "# %load tp3/generated/inverse_kinematics_robot\n",
    "robot = loadTiago()\n",
    "viz = MeshcatVisualizer(robot)"
   ]
  },
  {
   "cell_type": "code",
   "execution_count": 12,
   "metadata": {},
   "outputs": [],
   "source": [
    "# %load tp3/generated/inverse_kinematics_goal\n",
    "# Goal placement, and integration in the viewer of the goal.\n",
    "oMgoal = pin.SE3(pin.Quaternion(-0.5, 0.58, -0.39, 0.52).normalized().matrix(),\n",
    "                np.array([1.2, .4, .7]))\n",
    "viz.addBox('goal', [.1,.1,.1], [ .1,.1,.5, .6] )\n",
    "viz.applyConfiguration('goal',oMgoal)\n",
    "\n",
    "IDX_TOOL = robot.model.getFrameId('frametool')\n"
   ]
  },
  {
   "cell_type": "markdown",
   "metadata": {},
   "source": [
    "### Position the effector (3d)\n",
    "It is time to write your first control law. Write a for-loop to iterate along the control cycles of the robot. At each control cycle, you should:\n",
    "* compute the Jacobian 3D in the world frame o_Jtool3\n",
    "* compute the vector from the tool to the goal, expressed in world frame: o_TG = o_goal - o_tool\n",
    "* compute the control law as vq=-pinv(J)*o_TG\n",
    "* integrated the velocity vq during DT to get a new configuration q.\n",
    "You might want to start from the following initial configuration, or from any random one."
   ]
  },
  {
   "cell_type": "code",
   "execution_count": 48,
   "metadata": {},
   "outputs": [],
   "source": [
    "# %load tp3/generated/inverse_kinematics_init\n",
    "# Robot initial configuration.\n",
    "q0 = np.array([ 0.  ,  0.  ,  1.  ,  0.  ,  0.18,  1.37, -0.24, -0.98,  0.98,\n",
    "                0.  ,  0.  ,  0.  ,  0.  , -0.13,  0.  ,  0.  ,  0.  ,  0.  ])\n",
    "\n",
    "viz.display(q0)\n",
    "DT = 1e-2\n",
    "\n"
   ]
  },
  {
   "cell_type": "markdown",
   "metadata": {},
   "source": [
    "It is a good idea to store the values of the error between tool and goal o_TG, to plot them later. For that, simply append each o_TG computed at every control cycle in a list."
   ]
  },
  {
   "cell_type": "code",
   "execution_count": 49,
   "metadata": {},
   "outputs": [],
   "source": [
    "# %load tp3/generated/inverse_kinematics_3d_loop\n",
    "q = q0.copy()\n",
    "herr = [] # Log the value of the error between tool and goal.\n",
    "# Loop on an inverse kinematics for 200 iterations.\n",
    "for i in range(200):  # Integrate over 2 second of robot life\n",
    "\n",
    "    # Run the algorithms that outputs values in robot.data\n",
    "    pin.framesForwardKinematics(robot.model,robot.data,q)\n",
    "    pin.computeJointJacobians(robot.model,robot.data,q)\n",
    "\n",
    "    # Placement from world frame o to frame f oMtool\n",
    "    oMtool = robot.data.oMf[IDX_TOOL]\n",
    "\n",
    "    # 3D jacobian in world frame\n",
    "    o_Jtool3 = pin.computeFrameJacobian(robot.model,robot.data,q,IDX_TOOL,pin.LOCAL_WORLD_ALIGNED)[:3,:]\n",
    "\n",
    "    # vector from tool to goal, in world frame\n",
    "    o_TG = oMtool.translation-oMgoal.translation\n",
    "    \n",
    "    # Control law by least square\n",
    "    vq = -1 * pinv(o_Jtool3)@o_TG\n",
    "\n",
    "    q = pin.integrate(robot.model,q, vq * DT)\n",
    "    viz.display(q)\n",
    "    time.sleep(1e-2)\n",
    "\n",
    "    herr.append(o_TG) \n"
   ]
  },
  {
   "cell_type": "markdown",
   "metadata": {},
   "source": [
    "It is interesting to plot the behavior of the robot. If the error at each iteration has been stored as a list of 3x1 matrices, the following code plots it."
   ]
  },
  {
   "cell_type": "code",
   "execution_count": 50,
   "metadata": {},
   "outputs": [
    {
     "data": {
      "image/png": "[encoded data removed]",
      "text/plain": [
       "<Figure size 640x480 with 1 Axes>"
      ]
     },
     "metadata": {},
     "output_type": "display_data"
    }
   ],
   "source": [
    "plt.plot(herr)\n",
    "plt.xlabel('control cycle (iter)')\n",
    "plt.ylabel('error (m)');"
   ]
  },
  {
   "cell_type": "markdown",
   "metadata": {},
   "source": [
    "We can observe that each component of the error converges toward 0 following an exponential trajetory. The convergence is assymptotic. To fasten the convergence, increase the gain of the control law ($v_q = - \\lambda J^+ e$), where the gain $\\lambda$ has yet been set to 1."
   ]
  },
  {
   "cell_type": "markdown",
   "metadata": {},
   "source": [
    "### Place the end effector (6D)\n",
    "The previous control law brings the center of the effector toward the center of the goal frame. However, it does not control the orientation of the end effector: the axes of the two frames F_tool and F_goal do not converge.\n",
    "We should now modify the control law to take into account the tool orientation. For that, we compute the error to be the SE(3) log of the displacement from the tool frame F_tool to the goal frame F_goal."
   ]
  },
  {
   "cell_type": "code",
   "execution_count": null,
   "metadata": {},
   "outputs": [],
   "source": [
    "toolMgoal = oMtool.inverse()*oMgoal\n",
    "tool_nu = pin.log(toolMgoal).vector"
   ]
  },
  {
   "cell_type": "markdown",
   "metadata": {},
   "source": [
    "This error tool_nu is a 6d vector, that can be interpreted as the spatial (6d) velocity that should be applied during 1 second to displace the tool frame F_tool (placed at oMtool) to the goal frame F_goal (placed at oMgoal). This spatial velocity is expressed in the tool frame F_tool. It then corresponds to the 6D jacobian, that is also computed in the same frame F_tool.\n",
    "\n",
    "Implement a second control law, following the same pattern than the previous control law. At each control cycle, you should:\n",
    "* compute the displacement between F_tool and F_goal, denoted toolMgoal\n",
    "* compute the 6D error using the SE(3) log tool_nu\n",
    "* compute the 6D jacobian tool_Jtool\n",
    "* compute the control law vq = pinv(J)*nu\n",
    "* integrate the robot velocity vq during DT to get a new configuration q\n",
    "* log the error by storing it in a list herr."
   ]
  },
  {
   "cell_type": "code",
   "execution_count": 51,
   "metadata": {},
   "outputs": [],
   "source": [
    "# %load tp3/generated/inverse_kinematics_6d_loop\n",
    "q = q0.copy()\n",
    "herr = []\n",
    "for i in range(200):  # Integrate over 2 second of robot life\n",
    "    # Run the algorithms that outputs values in robot.data\n",
    "    pin.framesForwardKinematics(robot.model, robot.data, q)\n",
    "    pin.computeJointJacobians(robot.model, robot.data, q)\n",
    "\n",
    "    # Placement from world frame o to frame f oMtool\n",
    "    oMtool = robot.data.oMf[IDX_TOOL]\n",
    "\n",
    "    # 6D error between the two frame\n",
    "    tool_nu = pin.log(oMtool.inverse() * oMgoal).vector\n",
    "\n",
    "    # Get corresponding jacobian\n",
    "    tool_Jtool = pin.computeFrameJacobian(robot.model, robot.data, q, IDX_TOOL)\n",
    "\n",
    "    # Control law by least square\n",
    "    vq = pinv(tool_Jtool) @ tool_nu\n",
    "\n",
    "    q = pin.integrate(robot.model, q, vq * DT)\n",
    "    viz.display(q)\n",
    "    time.sleep(1e-3)\n",
    "\n",
    "    herr.append(tool_nu)\n"
   ]
  },
  {
   "cell_type": "markdown",
   "metadata": {},
   "source": [
    "The tool frame F_tool converges toward the gooal frame F_goal: the center and the axes are finally aligned. The trajectory of the tool center is not a straight line, as the frame F_tool follows a \"straight\" line, not in R^3 but in SE(3).\n",
    "We can also plot the error (assuming that herr is a list of the 6D errors herr)."
   ]
  },
  {
   "cell_type": "code",
   "execution_count": 52,
   "metadata": {},
   "outputs": [
    {
     "data": {
      "image/png": "[encoded data removed]",
      "text/plain": [
       "<Figure size 640x480 with 2 Axes>"
      ]
     },
     "metadata": {},
     "output_type": "display_data"
    }
   ],
   "source": [
    "# %load tp3/generated/inverse_kinematics_plot\n",
    "plt.subplot(211)\n",
    "plt.plot([ e[:3] for e in herr])\n",
    "plt.xlabel('control cycle (iter)')\n",
    "plt.ylabel('error (m)')\n",
    "plt.subplot(212)\n",
    "plt.plot([ e[3:] for e in herr])\n",
    "plt.xlabel('control cycle (iter)')\n",
    "plt.ylabel('error (rad)');\n"
   ]
  },
  {
   "cell_type": "markdown",
   "metadata": {},
   "source": [
    "### Inverse kinematics for two tasks\n",
    "We yet controlled the robot with a single task (either the 3d position or the 6d placement errors). Let's see how to take into account a second task. Let's first introduce a second task. \n",
    "\n",
    "#### Introducing a second task: control the gaze\n",
    "The robot has an additional frame named F_gaze, attached to the head and located 40 cm in front of the cameras. The task will be to position (3d) the center of this frame on an object of interest (a red ball)."
   ]
  },
  {
   "cell_type": "code",
   "execution_count": 53,
   "metadata": {},
   "outputs": [
    {
     "name": "stderr",
     "output_type": "stream",
     "text": [
      "/home/cpene/Documents/supaero2025/tp3/tiago_loader.py:146: UserWarning: Deprecated member. Use Frame.parentJoint instead.\n",
      "  JIDX = robot.model.frames[FIDX].parent\n",
      "/home/cpene/Documents/supaero2025/tp3/tiago_loader.py:154: UserWarning: This function has been marked as deprecated and will be removed in a future release.\n",
      "  pin.GeometryObject(\"axisgaze_x\", FIDX, JIDX, cyl, pin.SE3(X, X @ med + eff))\n",
      "/home/cpene/Documents/supaero2025/tp3/tiago_loader.py:159: UserWarning: This function has been marked as deprecated and will be removed in a future release.\n",
      "  pin.GeometryObject(\"axisgaze_y\", FIDX, JIDX, cyl, pin.SE3(Y, Y @ med + eff))\n",
      "/home/cpene/Documents/supaero2025/tp3/tiago_loader.py:164: UserWarning: This function has been marked as deprecated and will be removed in a future release.\n",
      "  pin.GeometryObject(\"axisgaze_z\", FIDX, JIDX, cyl, pin.SE3(Z, Z @ med + eff))\n"
     ]
    },
    {
     "name": "stdout",
     "output_type": "stream",
     "text": [
      "You can open the visualizer by visiting the following URL:\n",
      "http://127.0.0.1:7001/static/\n"
     ]
    }
   ],
   "source": [
    "# %load tp3/generated/control_head_robot\n",
    "robot = loadTiago(addGazeFrame=True)\n",
    "viz = MeshcatVisualizer(robot)\n"
   ]
  },
  {
   "cell_type": "code",
   "execution_count": 54,
   "metadata": {},
   "outputs": [],
   "source": [
    "# %load tp3/generated/control_head_gaze\n",
    "IDX_GAZE = robot.model.getFrameId('framegaze')\n",
    "\n",
    "# Add a small ball as a visual target to be reached by the robot\n",
    "ball = np.array([ 1.2,0.5,1.1 ])\n",
    "viz.addSphere('ball', .05, [ .8,.1,.5, .8] )\n",
    "viz.applyConfiguration('ball', list(ball)+[0,0,0,1])\n"
   ]
  },
  {
   "cell_type": "code",
   "execution_count": 55,
   "metadata": {},
   "outputs": [],
   "source": [
    "viz.display(q0)\n",
    "#viz.viewer.jupyter_cell()"
   ]
  },
  {
   "cell_type": "markdown",
   "metadata": {},
   "source": [
    "Controlling this point can be done by achieving a simple variation of the control law for positioning (3d) the robot tool."
   ]
  },
  {
   "cell_type": "code",
   "execution_count": 56,
   "metadata": {},
   "outputs": [],
   "source": [
    "# %load tp3/generated/control_head_gaze_loop\n",
    "q = q0.copy()\n",
    "herr = [] # Log the value of the error between gaze and ball.\n",
    "# Loop on an inverse kinematics for 200 iterations.\n",
    "for i in range(200):  # Integrate over 2 second of robot life\n",
    "\n",
    "    # Run the algorithms that outputs values in robot.data\n",
    "    pin.framesForwardKinematics(robot.model,robot.data,q)\n",
    "    pin.computeJointJacobians(robot.model,robot.data,q)\n",
    "\n",
    "    # Placement from world frame o to frame f oMgaze\n",
    "    oMgaze = robot.data.oMf[IDX_GAZE]\n",
    "\n",
    "    # 6D jacobian in local frame\n",
    "    o_Jgaze3 = pin.computeFrameJacobian(robot.model, robot.data, q, IDX_GAZE,pin.LOCAL_WORLD_ALIGNED)[:3,:]\n",
    "\n",
    "    # vector from gaze to ball, in world frame\n",
    "    o_GazeBall = oMgaze.translation-ball\n",
    "    \n",
    "    vq = -pinv(o_Jgaze3) @ o_GazeBall\n",
    "\n",
    "    q = pin.integrate(robot.model,q, vq * DT)\n",
    "    viz.display(q)\n",
    "    time.sleep(1e-3)\n",
    "\n",
    "    herr.append(o_GazeBall) \n"
   ]
  },
  {
   "cell_type": "markdown",
   "metadata": {},
   "source": [
    "#### Performing 2 tasks\n",
    "\n",
    "We now have two tasks (e1,J1) controlling the tool and (e2,J2) controlling the gaze. \n",
    "\n",
    "The null space projector of +J1+ can be computed using the pseudoinverse.\n",
    "Following the control law performing task 1 and task 2 in the null space of task 1 is:\n",
    "$$vq_1 = J_1^+ v_1^*$$\n",
    "$$P_1 = I_9 - J_1^+ J_1$$\n",
    "$$vq_2 = vq_1 + (J_2 P_1)^+ ( v_2^* - J_2 vq_1)$$\n",
    "\n",
    "You can now implement a control law solving the two tasks, i.e positioning the tool while controlling the gaze."
   ]
  },
  {
   "cell_type": "code",
   "execution_count": 59,
   "metadata": {},
   "outputs": [],
   "source": [
    "# %load tp3/generated/control_head_multi\n",
    "q = q0.copy()\n",
    "herr = []  # Log the value of the error between tool and goal.\n",
    "herr2 = []  # Log the value of the error between gaze and ball.\n",
    "# Loop on an inverse kinematics for 200 iterations.\n",
    "for i in range(200):  # Integrate over 2 second of robot life\n",
    "    pin.framesForwardKinematics(robot.model, robot.data, q)\n",
    "    pin.computeJointJacobians(robot.model, robot.data, q)\n",
    "\n",
    "    # Gaze task\n",
    "    oMgaze = robot.data.oMf[IDX_GAZE]\n",
    "    o_Jgaze3 = pin.computeFrameJacobian(\n",
    "        robot.model, robot.data, q, IDX_GAZE, pin.LOCAL_WORLD_ALIGNED\n",
    "    )[:3, :]\n",
    "    o_GazeBall = oMgaze.translation - ball\n",
    "\n",
    "    # Tool task\n",
    "    oMtool = robot.data.oMf[IDX_TOOL]\n",
    "    o_Jtool3 = pin.computeFrameJacobian(\n",
    "        robot.model, robot.data, q, IDX_TOOL, pin.LOCAL_WORLD_ALIGNED\n",
    "    )[:3, :]\n",
    "    o_TG = oMtool.translation - oMgoal.translation\n",
    "\n",
    "    vq = -pinv(o_Jtool3) @ o_TG\n",
    "    Ptool = np.eye(robot.nv) - pinv(o_Jtool3) @ o_Jtool3\n",
    "    vq += pinv(o_Jgaze3 @ Ptool) @ (-o_GazeBall - o_Jgaze3 @ vq)\n",
    "\n",
    "    q = pin.integrate(robot.model, q, vq * DT)\n",
    "    viz.display(q)\n",
    "    time.sleep(1e-3)\n",
    "\n",
    "    herr.append(o_TG)\n",
    "    herr2.append(o_GazeBall)\n"
   ]
  },
  {
   "cell_type": "markdown",
   "metadata": {},
   "source": [
    "A third task can be implemented as well by computing the null space of the two first tasks"
   ]
  },
  {
   "cell_type": "code",
   "execution_count": null,
   "metadata": {},
   "outputs": [],
   "source": [
    "Pgaze = Ptool - pinv(o_Jgaze3 @ Ptool) @ o_Jgaze3 @ Ptool"
   ]
  },
  {
   "cell_type": "markdown",
   "metadata": {},
   "source": [
    "## Homework\n",
    "\n",
    "Load an extra cube in the viewer to figure a table. First control the robot hand to reach an arbitrary point on the table (don't mind for the collision). Then implement a control law to control three tasks:\n",
    "* the tool frame should be kept on the table (i.e. only the z component of the error matter, select only the 3rd row of the matrix).\n",
    "* the gaze should be control to reach the position of a ball object positionned on the table.\n",
    "* the center of the basis frame should reach a given target on the floor. For this task, only the x- and y- component of the task matter, select only the 2 first rows.\n"
   ]
  },
  {
   "cell_type": "code",
   "execution_count": 113,
   "metadata": {},
   "outputs": [
    {
     "name": "stdout",
     "output_type": "stream",
     "text": [
      "You can open the visualizer by visiting the following URL:\n",
      "http://127.0.0.1:7008/static/\n"
     ]
    }
   ],
   "source": [
    "import gepetuto.magic\n",
    "import pinocchio as pin\n",
    "import numpy as np\n",
    "import time\n",
    "from numpy.linalg import pinv,inv,norm,svd,eig\n",
    "from tp3.tiago_loader import loadTiago\n",
    "import matplotlib.pylab as plt\n",
    "from supaero2025.meshcat_viewer_wrapper import MeshcatVisualizer\n",
    "import unittest\n",
    "\n",
    "# Load robot\n",
    "robot = loadTiago(addGazeFrame=True)\n",
    "viz = MeshcatVisualizer(robot)\n",
    "\n",
    "IDX_TOOL = robot.model.getFrameId('frametool')\n",
    "IDX_GAZE = robot.model.getFrameId('framegaze')"
   ]
  },
  {
   "cell_type": "code",
   "execution_count": 114,
   "metadata": {},
   "outputs": [],
   "source": [
    "# initialisation de la position du robot\n",
    "q0 = np.array([ 0.  ,  0.  ,  1.  ,  0.  ,  0.18,  1.37, -0.24, -0.98,  0.98,\n",
    "                0.  ,  0.  ,  0.  ,  0.  , -0.13,  0.  ,  0.  ,  0.  ,  0.  ])\n",
    "\n",
    "viz.display(q0)\n",
    "DT = 1e-2\n"
   ]
  },
  {
   "cell_type": "code",
   "execution_count": 115,
   "metadata": {},
   "outputs": [],
   "source": [
    "# load a table (square)\n",
    "TABLE_SIDE = 0.6  # Un cube de 80cm de côté\n",
    "TABLE_DIMS = [TABLE_SIDE, TABLE_SIDE, TABLE_SIDE]\n",
    "TABLE_COLOR = [0.6, 0.3, 0.0, 1.0]\n",
    "# L'objet est positionné par son centre. Donc, le centre du cube doit être à z = hauteur / 2.\n",
    "table_translation = np.array([1.5, 0.5, TABLE_SIDE / 2.0]) \n",
    "# Positionné à 70cm devant le robot (sur l'axe X) et au niveau du sol.\n",
    "# La table n'est pas inclinée. La rotation est donc une identité.\n",
    "oMtable = pin.SE3(np.eye(3), table_translation)\n",
    "\n",
    "# On met la table dans la simulation\n",
    "viz.addBox('world/table', TABLE_DIMS, TABLE_COLOR)\n",
    "# On la place correctement\n",
    "viz.applyConfiguration('world/table', oMtable)\n"
   ]
  },
  {
   "cell_type": "code",
   "execution_count": 116,
   "metadata": {},
   "outputs": [],
   "source": [
    "# on commence par se déplacer pour avoir le bras au niveau de la table (milieu)\n",
    "goal_translation = oMtable.translation.copy()  # Commence par [1.5, 0.5, 0.3]\n",
    "goal_translation[2] = TABLE_SIDE             # Met Z à 0.6\n",
    "oMgoal = pin.SE3(pin.rpy.rpyToMatrix(0, np.pi, 0),\n",
    "                goal_translation)\n",
    "viz.addSphere('tool_goal', 0.05, [ .1,.1,.5, .6] )\n",
    "viz.applyConfiguration('tool_goal',oMgoal)\n",
    "\n",
    "q = q0.copy()\n",
    "herr = [] # Log the value of the error between gaze and ball.\n",
    "# Loop on an inverse kinematics for 200 iterations.\n",
    "for i in range(200):  # Integrate over 2 second of robot life\n",
    "\n",
    "    # Run the algorithms that outputs values in robot.data\n",
    "    pin.framesForwardKinematics(robot.model,robot.data,q)\n",
    "    pin.computeJointJacobians(robot.model,robot.data,q)\n",
    "\n",
    "    # Placement from world frame o to frame f oMgaze\n",
    "    oMtool = robot.data.oMf[IDX_TOOL]\n",
    "\n",
    "    # 6D error between the two frame\n",
    "    tool_nu = pin.log(oMtool.inverse() * oMgoal).vector\n",
    "\n",
    "    # Get corresponding jacobian\n",
    "    tool_Jtool = pin.computeFrameJacobian(robot.model, robot.data, q, IDX_TOOL)\n",
    "\n",
    "    # Control law by least square\n",
    "    vq = 10 * pinv(tool_Jtool) @ tool_nu\n",
    "\n",
    "    q = pin.integrate(robot.model, q, vq * DT)\n",
    "    viz.display(q)\n",
    "    time.sleep(1e-3)\n",
    "\n",
    "    herr.append(tool_nu)\n"
   ]
  },
  {
   "cell_type": "code",
   "execution_count": 117,
   "metadata": {},
   "outputs": [],
   "source": [
    "# On va commencer par faire 2 taches en parallele\n",
    "# tache 1 : garder l'outil sur la table (z constant)\n",
    "# tache 2 : les yeux du robot doivent regarder l'objectif atteint precedemment\n",
    "\n",
    "herr = []  # Log de l'erreur de l'outil sur l'axe z.\n",
    "herr2 = []  # Log de l'erreur entre l'objectif et les yeux du robot (gaze).\n",
    "# Facteur de gain pour la convergence\n",
    "K = 5.0\n",
    "\n",
    "# Loop on an inverse kinematics for 200 iterations.\n",
    "for i in range(200):  # Integrate over 2 second of robot life\n",
    "    pin.framesForwardKinematics(robot.model, robot.data, q)\n",
    "    pin.computeJointJacobians(robot.model, robot.data, q)\n",
    "\n",
    "    # tache de l'outil\n",
    "    oMtool = robot.data.oMf[IDX_TOOL]\n",
    "    o_Jtoolz = pin.getFrameJacobian(robot.model, robot.data, IDX_TOOL, pin.LOCAL_WORLD_ALIGNED\n",
    "    )[2:3, :]\n",
    "    o_ToolGoal = oMtool.translation[2] - oMgoal.translation[2] # ca nous donne un scalaire\n",
    "\n",
    "\n",
    "    # tache des yeux (gaze)\n",
    "    oMgaze = robot.data.oMf[IDX_GAZE]\n",
    "    o_Jgaze3 = pin.getFrameJacobian(\n",
    "        robot.model, robot.data, IDX_GAZE, pin.LOCAL_WORLD_ALIGNED\n",
    "    )[:3, :]\n",
    "    o_GazeGoal = oMgaze.translation - oMgoal.translation\n",
    "    # On s'assure que o_GazeGoal est un vecteur colonne (3, 1) et non un array 1D (3,)\n",
    "    o_GazeGoal = o_GazeGoal.reshape(-1, 1)\n",
    "\n",
    "    # on fait les maths.. lol j'ai tout compris tkt\n",
    "    vq = -K * pinv(o_Jtoolz) * o_ToolGoal\n",
    "    # 2. Calculer le projecteur de l'espace nul de la tâche 1\n",
    "    Ptool = np.eye(robot.nv) - pinv(o_Jtoolz) @ o_Jtoolz\n",
    "    # 3. Calculer la vélocité pour la tâche secondaire dans l'espace nul\n",
    "    J_gaze_proj = o_Jgaze3 @ Ptool\n",
    "    e_gaze_proj = - K * o_GazeGoal - o_Jgaze3 @ vq\n",
    "    # On utilise une pseudo-inverse amortie (DLS) pour la robustesse\n",
    "    vq += pinv(J_gaze_proj, 1e-4) @ e_gaze_proj\n",
    "\n",
    "    q = pin.integrate(robot.model, q, vq * DT)\n",
    "    viz.display(q)\n",
    "    time.sleep(1e-3)\n",
    "\n",
    "    herr.append(o_ToolGoal)\n",
    "    herr2.append(o_GazeGoal)"
   ]
  },
  {
   "cell_type": "code",
   "execution_count": null,
   "metadata": {},
   "outputs": [],
   "source": []
  }
 ],
 "metadata": {
  "kernelspec": {
   "display_name": "Python 3 (ipykernel)",
   "language": "python",
   "name": "python3"
  },
  "language_info": {
   "codemirror_mode": {
    "name": "ipython",
    "version": 3
   },
   "file_extension": ".py",
   "mimetype": "text/x-python",
   "name": "python",
   "nbconvert_exporter": "python",
   "pygments_lexer": "ipython3",
   "version": "3.12.3"
  }
 },
 "nbformat": 4,
 "nbformat_minor": 4
}
