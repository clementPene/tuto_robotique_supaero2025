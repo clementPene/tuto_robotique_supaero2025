{
 "cells": [
  {
   "cell_type": "markdown",
   "metadata": {},
   "source": [
    "# Reaching multiple targets with a manipulator\n",
    "The objective of this exercice is to introduce the implementation of the front-end based on Pinocchio, for polyarticulated systems modeled in position-velocity-torque.\n",
    "\n",
    "We provide a basic example for reaching one point with a manipulator robot. You are then guided to modify this example for sequence of multiple targets. "
   ]
  },
  {
   "cell_type": "markdown",
   "metadata": {},
   "source": [
    "## Set up"
   ]
  },
  {
   "cell_type": "code",
   "execution_count": 1,
   "metadata": {},
   "outputs": [
    {
     "name": "stdout",
     "output_type": "stream",
     "text": [
      "NB: as for all the tutorials, a magic command %do_not_load is introduced to hide\n",
      "    the solutions to some questions. Change it for %load if you want to see (and\n",
      "    execute) the solution.\n"
     ]
    }
   ],
   "source": [
    "import gepetuto.magic"
   ]
  },
  {
   "cell_type": "markdown",
   "metadata": {},
   "source": [
    "This notebook is also based on Crocoddyl. Our optimal control toolbox is composed of 3 main parts: **the backend** contains the API for solving the problem and accessing the solution and implements several solvers, DDP being the first one; **the frontend** is first composed of a basic API which we mostly used in the exercice with unicycle and bicopter, and that you can use to implement any fancy problem; finally, **a particular implementation of the front end using Pinocchio** is mostly written for working with polyarticulated systems such as manipulator robots."
   ]
  },
  {
   "cell_type": "markdown",
   "metadata": {},
   "source": [
    "We will need crocoddyl as in the previous notebook, with the model of the arm of the humanoid robot Talos, a 7-dof arm. It can be found in example robot data."
   ]
  },
  {
   "cell_type": "code",
   "execution_count": 2,
   "metadata": {},
   "outputs": [],
   "source": [
    "# %load tp5/generated/panda_reaches_a_single_target_import\n",
    "import crocoddyl\n",
    "import pinocchio as pin\n",
    "import numpy as np\n",
    "import example_robot_data as robex\n",
    "import matplotlib.pylab as plt\n",
    "import time\n"
   ]
  },
  {
   "cell_type": "markdown",
   "metadata": {},
   "source": [
    "In this notebook, we will give an introduction to the multibody (Pinocchio) front-end of Crocoddyl. In the first part, we will use the classical DDP solver (back-end). In the second part, we will use the more recent MIM Solver, which can handle hard constraint."
   ]
  },
  {
   "cell_type": "code",
   "execution_count": 3,
   "metadata": {},
   "outputs": [],
   "source": [
    "import mim_solvers"
   ]
  },
  {
   "cell_type": "markdown",
   "metadata": {},
   "source": [
    "## Panda reaches a single target"
   ]
  },
  {
   "cell_type": "markdown",
   "metadata": {},
   "source": [
    "### Panda robot model"
   ]
  },
  {
   "attachments": {},
   "cell_type": "markdown",
   "metadata": {},
   "source": [
    "First, let's load the Pinocchio model for the Panda arm."
   ]
  },
  {
   "cell_type": "code",
   "execution_count": 4,
   "metadata": {},
   "outputs": [],
   "source": [
    "# %load tp5/generated/panda_reaches_a_single_target_robexload\n",
    "# First, let's load the Pinocchio model for the Panda arm.\n",
    "robot = robex.load('panda')\n",
    "# The 2 last joints are for the fingers, not important in arm motion, freeze them\n",
    "robot.model,[robot.visual_model,robot.collision_model] = \\\n",
    "    pin.buildReducedModel(robot.model,[robot.visual_model,robot.collision_model],[8,9],robot.q0)\n",
    "robot.q0 = robot.q0[:7].copy()\n"
   ]
  },
  {
   "cell_type": "markdown",
   "metadata": {},
   "source": [
    "The optimal control problem is defined by a bunch of hyperparameters."
   ]
  },
  {
   "cell_type": "code",
   "execution_count": 5,
   "metadata": {},
   "outputs": [],
   "source": [
    "# %load tp5/generated/panda_reaches_a_single_target_hyperparameters\n",
    "HORIZON_LENGTH = 100\n",
    "TIME_STEP = 1e-2\n",
    "FRAME_TIP = robot.model.getFrameId(\"panda_hand_tcp\")\n",
    "GOAL_POSITION = np.array([.2,0.6,.5])\n",
    "GOAL_PLACEMENT = pin.SE3(pin.utils.rpyToMatrix(-np.pi,-1.5,1.5), GOAL_POSITION)\n",
    "REACH_DIMENSION = \"3d\" # \"6d\"\n"
   ]
  },
  {
   "cell_type": "markdown",
   "metadata": {},
   "source": [
    "Set robot model."
   ]
  },
  {
   "cell_type": "code",
   "execution_count": 6,
   "metadata": {},
   "outputs": [],
   "source": [
    "# %load tp5/generated/panda_reaches_a_single_target_robot_model\n",
    "# Set robot model\n",
    "robot_model = robot.model\n",
    "robot_model.armature = np.array([1.0, 1.0, 1.0, 1.0, 1.0, 1.0, 0.])*5\n",
    "robot_model.q0 = np.array([3.5,2,2,0,0,0,0])\n",
    "robot_model.x0 = np.concatenate([robot_model.q0, np.zeros(robot_model.nv)])\n",
    "robot_model.gravity *= 0\n"
   ]
  },
  {
   "cell_type": "markdown",
   "metadata": {},
   "source": [
    "We will use meshcat for displaying the model."
   ]
  },
  {
   "cell_type": "code",
   "execution_count": 7,
   "metadata": {},
   "outputs": [
    {
     "name": "stdout",
     "output_type": "stream",
     "text": [
      "You can open the visualizer by visiting the following URL:\n",
      "http://127.0.0.1:7000/static/\n"
     ]
    }
   ],
   "source": [
    "# %load tp5/generated/panda_reaches_a_single_target_viz\n",
    "from supaero2025.meshcat_viewer_wrapper import MeshcatVisualizer\n",
    "viz = MeshcatVisualizer(robot)\n",
    "viz.display(robot.q0)\n",
    "viz.addBox('world/goal',[.1,.1,.1],[0,1,0,1])\n",
    "viz.applyConfiguration('world/goal',GOAL_PLACEMENT)\n"
   ]
  },
  {
   "cell_type": "code",
   "execution_count": 8,
   "metadata": {},
   "outputs": [],
   "source": [
    "#viz.viewer.jupyter_cell()"
   ]
  },
  {
   "cell_type": "markdown",
   "metadata": {},
   "source": [
    "The model is augmented with a default state $x_0$, and armature is added to the joints to model the gear reduction."
   ]
  },
  {
   "cell_type": "code",
   "execution_count": 9,
   "metadata": {},
   "outputs": [],
   "source": [
    "# %load tp5/generated/panda_reaches_a_single_target_robot_model\n",
    "# Set robot model\n",
    "robot_model = robot.model\n",
    "robot_model.armature = np.ones(robot.model.nv)*2 # Arbitrary value representing the true armature\n",
    "robot_model.q0 = robot.q0.copy()\n",
    "robot_model.x0 = np.concatenate([robot_model.q0, np.zeros(robot_model.nv)])\n"
   ]
  },
  {
   "cell_type": "markdown",
   "metadata": {},
   "source": [
    "### Cost and dynamics\n",
    "This starts with specifying the state space, defined by $x=(q,v)$. "
   ]
  },
  {
   "cell_type": "code",
   "execution_count": 10,
   "metadata": {},
   "outputs": [],
   "source": [
    "# %load tp5/generated/panda_reaches_a_single_target_state\n",
    "state = crocoddyl.StateMultibody(robot_model)"
   ]
  },
  {
   "cell_type": "markdown",
   "metadata": {},
   "source": [
    "The cost is defined as a sum of multiple terms. The classes CostSum are created to store the terms. Let's have one for the running nodes, and one for the terminal node.\n",
    "\n",
    "We need to first define a cost model (i.e. set of cost functions) in order to next define the action model for our optimal control problem.\n",
    "For this particular example, we formulate three running-cost functions: goal-tracking cost, state and control regularization; and a terminal cost: goal cost. First, let's create the common cost functions."
   ]
  },
  {
   "cell_type": "code",
   "execution_count": 11,
   "metadata": {},
   "outputs": [],
   "source": [
    "# %load tp5/generated/panda_reaches_a_single_target_sumofcosts\n",
    "runningCostModel = crocoddyl.CostModelSum(state)\n",
    "terminalCostModel = crocoddyl.CostModelSum(state)\n"
   ]
  },
  {
   "cell_type": "markdown",
   "metadata": {},
   "source": [
    "We define a cost for reaching the target, either as a 3D objective $\\ell(x) = \\| p(q)-p^*\\|^2$, or as a 6D objective $\\ell(x) = \\| \\log( \\ ^0M_E(q)^{-1} \\ ^0M_* ) \\|^2$, with $p^* \\in \\mathbb{R^3}$ the goal position, and $^0M_* \\in SE(3)$ the goal placement."
   ]
  },
  {
   "cell_type": "code",
   "execution_count": 12,
   "metadata": {},
   "outputs": [],
   "source": [
    "# %load tp5/generated/panda_reaches_a_single_target_cost_goal\n",
    "if REACH_DIMENSION == \"3d\":\n",
    "    # Cost for 3d tracking || p(q) - pref ||**2\n",
    "    goalTrackingRes = crocoddyl.ResidualModelFrameTranslation(state,FRAME_TIP,GOAL_POSITION)\n",
    "    goalTrackingWeights = crocoddyl.ActivationModelWeightedQuad(np.array([1,1,1]))\n",
    "elif REACH_DIMENSION == \"6d\":\n",
    "    # Cost for 6d tracking  || log( M(q)^-1 Mref ) ||**2\n",
    "    goalTrackingRes = crocoddyl.ResidualModelFramePlacement(state,FRAME_TIP,GOAL_PLACEMENT)\n",
    "    goalTrackingWeights = crocoddyl.ActivationModelWeightedQuad(np.array([1,1,1, 1,1,1]))\n",
    "else:\n",
    "    assert( REACH_DIMENSION==\"3d\" or REACH_DIMENSION==\"6d\" )\n",
    "goalTrackingCost = crocoddyl.CostModelResidual(state,goalTrackingWeights,goalTrackingRes)\n",
    "runningCostModel.addCost(\"gripperPose\", goalTrackingCost, .001)\n",
    "terminalCostModel.addCost(\"gripperPose\", goalTrackingCost, 4)\n"
   ]
  },
  {
   "cell_type": "markdown",
   "metadata": {},
   "source": [
    "Next we add regularization. First a state regularization."
   ]
  },
  {
   "cell_type": "code",
   "execution_count": 13,
   "metadata": {},
   "outputs": [],
   "source": [
    "# %load tp5/generated/panda_reaches_a_single_target_cost_xreg\n",
    "# Cost for state regularization || x - x* ||**2\n",
    "# We set up different values for the integral cost and terminal cost term.\n",
    "\n",
    "# Regularization is stronger on position than velocity (to account for typical unit scale)\n",
    "xRegWeights = crocoddyl.ActivationModelWeightedQuad(np.array([1,1,1,1,1,1,1, .1,.1,.1,.1,.1,.1,.1]))\n",
    "xRegRes = crocoddyl.ResidualModelState(state,robot_model.x0)\n",
    "xRegCost = crocoddyl.CostModelResidual(state,xRegWeights,xRegRes)\n",
    "runningCostModel.addCost(\"xReg\", xRegCost, 1e-3)\n",
    "\n",
    "# Terminal cost for state regularization || x - x* ||**2\n",
    "# Require more strictly a small velocity at task end (but we don't car for the position)\n",
    "xRegWeightsT=crocoddyl.ActivationModelWeightedQuad(np.array([.5,.5,.5,.5,.5,.5,.5,  5.,5.,5.,5.,5.,5.,5.]))\n",
    "xRegResT = crocoddyl.ResidualModelState(state,robot_model.x0)\n",
    "xRegCostT = crocoddyl.CostModelResidual(state,xRegWeightsT,xRegResT)\n",
    "terminalCostModel.addCost(\"xReg\", xRegCostT, .01)\n"
   ]
  },
  {
   "cell_type": "markdown",
   "metadata": {},
   "source": [
    "Then a control regularization."
   ]
  },
  {
   "cell_type": "code",
   "execution_count": 14,
   "metadata": {},
   "outputs": [],
   "source": [
    "# %load tp5/generated/panda_reaches_a_single_target_cost_ureg\n",
    "# Cost for control regularization || u - g(q) ||**2\n",
    "uRegRes = crocoddyl.ResidualModelControlGrav(state)\n",
    "uRegCost = crocoddyl.CostModelResidual(state,uRegRes)\n",
    "runningCostModel.addCost(\"uReg\", uRegCost, 1e-6)\n"
   ]
  },
  {
   "cell_type": "markdown",
   "metadata": {},
   "source": [
    "### Action model \n",
    "Next, we need to create an action model for running and terminal nodes. We follow the same logic already explained with the bicopter: a differential action model (DAM) for the forward dynamics and the cost integrals, then a numerical integration in the integrator action model (IAM)."
   ]
  },
  {
   "cell_type": "code",
   "execution_count": 15,
   "metadata": {},
   "outputs": [],
   "source": [
    "# %load tp5/generated/panda_reaches_a_single_target_iam\n",
    "# Next, we need to create the running and terminal action model.\n",
    "# The forward dynamics (computed using ABA) are implemented\n",
    "# inside DifferentialActionModelFullyActuated.\n",
    "\n",
    "# The actuation model is here trivial: tau_q = u.\n",
    "actuationModel = crocoddyl.ActuationModelFull(state)\n",
    "# Running model composing the costs, the differential equations of motion and the integrator.\n",
    "runningModel = crocoddyl.IntegratedActionModelEuler(\n",
    "    crocoddyl.DifferentialActionModelFreeFwdDynamics(state, actuationModel, runningCostModel), TIME_STEP)\n",
    "runningModel.differential.armature = robot_model.armature\n",
    "# Terminal model following the same logic, although the integration is here trivial.\n",
    "terminalModel = crocoddyl.IntegratedActionModelEuler(\n",
    "    crocoddyl.DifferentialActionModelFreeFwdDynamics(state, actuationModel, terminalCostModel), 0.)\n",
    "terminalModel.differential.armature = robot_model.armature\n"
   ]
  },
  {
   "cell_type": "markdown",
   "metadata": {},
   "source": [
    "### Optimal control problem \n",
    "Once we have the action models, we just have to shape them into an optimal control problem.\n"
   ]
  },
  {
   "cell_type": "code",
   "execution_count": 16,
   "metadata": {},
   "outputs": [],
   "source": [
    "# %load tp5/generated/panda_reaches_a_single_target_shoot\n",
    "problem = crocoddyl.ShootingProblem(robot_model.x0, [runningModel] * HORIZON_LENGTH, terminalModel)\n"
   ]
  },
  {
   "cell_type": "markdown",
   "metadata": {},
   "source": [
    "### Solve and display\n",
    "We finalize the set up by creating the DDP solver for this optimal control problem."
   ]
  },
  {
   "cell_type": "code",
   "execution_count": 17,
   "metadata": {
    "scrolled": true
   },
   "outputs": [
    {
     "name": "stdout",
     "output_type": "stream",
     "text": [
      "iter    cost       merit      stop      |grad|      preg       dreg      step   ||ffeas||  ||gfeas||  ||hfeas||   dV-exp       dV      dPhi-exp     dPhi\n",
      "   0  2.589e+00  0.000e+00  8.822e-01  1.764e+00  1.000e-09  1.000e-09  1.0000  2.356e+00  0.000e+00  0.000e+00  8.822e-01 -1.608e+00  0.000e+00  0.000e+00\n",
      "   1  1.858e+00  0.000e+00  2.521e+00  5.043e+00  1.000e-09  1.000e-09  0.5000  0.000e+00  0.000e+00  0.000e+00  1.891e+00  7.306e-01  0.000e+00  0.000e+00\n",
      "   2  1.186e+00  0.000e+00  1.789e+00  3.578e+00  1.000e-09  1.000e-09  1.0000  0.000e+00  0.000e+00  0.000e+00  1.789e+00  6.722e-01  0.000e+00  0.000e+00\n",
      "   3  9.212e-01  0.000e+00  1.103e+00  2.206e+00  1.000e-09  1.000e-09  0.5000  0.000e+00  0.000e+00  0.000e+00  8.274e-01  2.650e-01  0.000e+00  0.000e+00\n",
      "   4  7.467e-01  0.000e+00  8.322e-01  1.664e+00  1.000e-09  1.000e-09  0.5000  0.000e+00  0.000e+00  0.000e+00  6.242e-01  1.745e-01  0.000e+00  0.000e+00\n",
      "   5  5.722e-01  0.000e+00  7.424e-01  1.485e+00  1.000e-09  1.000e-09  0.2500  0.000e+00  0.000e+00  0.000e+00  3.248e-01  1.745e-01  0.000e+00  0.000e+00\n",
      "   6  4.116e-01  0.000e+00  4.682e-01  9.365e-01  1.000e-09  1.000e-09  0.5000  0.000e+00  0.000e+00  0.000e+00  3.512e-01  1.607e-01  0.000e+00  0.000e+00\n",
      "   7  3.641e-01  0.000e+00  3.836e-01  7.672e-01  1.000e-09  1.000e-09  0.5000  0.000e+00  0.000e+00  0.000e+00  2.877e-01  4.744e-02  0.000e+00  0.000e+00\n",
      "   8  2.030e-01  0.000e+00  3.166e-01  6.332e-01  1.000e-09  1.000e-09  1.0000  0.000e+00  0.000e+00  0.000e+00  3.166e-01  1.611e-01  0.000e+00  0.000e+00\n",
      "   9  1.283e-01  0.000e+00  1.632e-01  3.264e-01  1.000e-09  1.000e-09  0.5000  0.000e+00  0.000e+00  0.000e+00  1.224e-01  7.468e-02  0.000e+00  0.000e+00\n",
      "iter    cost       merit      stop      |grad|      preg       dreg      step   ||ffeas||  ||gfeas||  ||hfeas||   dV-exp       dV      dPhi-exp     dPhi\n",
      "  10  5.705e-02  0.000e+00  8.108e-02  1.622e-01  1.000e-09  1.000e-09  1.0000  0.000e+00  0.000e+00  0.000e+00  8.108e-02  7.129e-02  0.000e+00  0.000e+00\n",
      "  11  5.530e-02  0.000e+00  1.163e-02  2.326e-02  1.000e-09  1.000e-09  0.5000  0.000e+00  0.000e+00  0.000e+00  8.724e-03  1.750e-03  0.000e+00  0.000e+00\n",
      "  12  4.830e-02  0.000e+00  8.123e-03  1.625e-02  1.000e-09  1.000e-09  1.0000  0.000e+00  0.000e+00  0.000e+00  8.123e-03  6.991e-03  0.000e+00  0.000e+00\n",
      "  13  4.700e-02  0.000e+00  1.677e-03  3.354e-03  1.000e-09  1.000e-09  0.5000  0.000e+00  0.000e+00  0.000e+00  1.258e-03  1.301e-03  0.000e+00  0.000e+00\n",
      "  14  4.656e-02  0.000e+00  5.417e-04  1.083e-03  1.000e-09  1.000e-09  0.5000  0.000e+00  0.000e+00  0.000e+00  4.063e-04  4.463e-04  0.000e+00  0.000e+00\n",
      "  15  4.603e-02  0.000e+00  6.972e-04  1.394e-03  1.000e-09  1.000e-09  0.5000  0.000e+00  0.000e+00  0.000e+00  5.229e-04  5.224e-04  0.000e+00  0.000e+00\n",
      "  16  4.541e-02  0.000e+00  1.028e-03  2.056e-03  1.000e-09  1.000e-09  0.5000  0.000e+00  0.000e+00  0.000e+00  7.708e-04  6.272e-04  0.000e+00  0.000e+00\n",
      "  17  4.467e-02  0.000e+00  1.506e-03  3.013e-03  1.000e-09  1.000e-09  0.5000  0.000e+00  0.000e+00  0.000e+00  1.130e-03  7.394e-04  0.000e+00  0.000e+00\n",
      "  18  4.385e-02  0.000e+00  2.103e-03  4.206e-03  1.000e-09  1.000e-09  0.5000  0.000e+00  0.000e+00  0.000e+00  1.577e-03  8.149e-04  0.000e+00  0.000e+00\n",
      "  19  4.303e-02  0.000e+00  2.800e-03  5.599e-03  1.000e-09  1.000e-09  0.5000  0.000e+00  0.000e+00  0.000e+00  2.100e-03  8.201e-04  0.000e+00  0.000e+00\n",
      "iter    cost       merit      stop      |grad|      preg       dreg      step   ||ffeas||  ||gfeas||  ||hfeas||   dV-exp       dV      dPhi-exp     dPhi\n",
      "  20  4.221e-02  0.000e+00  3.584e-03  7.168e-03  1.000e-09  1.000e-09  0.5000  0.000e+00  0.000e+00  0.000e+00  2.688e-03  8.209e-04  0.000e+00  0.000e+00\n",
      "  21  4.104e-02  0.000e+00  4.263e-03  8.526e-03  1.000e-09  1.000e-09  0.5000  0.000e+00  0.000e+00  0.000e+00  3.197e-03  1.168e-03  0.000e+00  0.000e+00\n",
      "  22  3.922e-02  0.000e+00  4.125e-03  8.249e-03  1.000e-09  1.000e-09  0.5000  0.000e+00  0.000e+00  0.000e+00  3.094e-03  1.826e-03  0.000e+00  0.000e+00\n",
      "  23  3.746e-02  0.000e+00  2.682e-03  5.364e-03  1.000e-09  1.000e-09  1.0000  0.000e+00  0.000e+00  0.000e+00  2.682e-03  1.760e-03  0.000e+00  0.000e+00\n",
      "  24  3.653e-02  0.000e+00  9.868e-04  1.974e-03  1.000e-09  1.000e-09  1.0000  0.000e+00  0.000e+00  0.000e+00  9.868e-04  9.309e-04  0.000e+00  0.000e+00\n",
      "  25  3.652e-02  0.000e+00  3.457e-05  6.914e-05  1.000e-09  1.000e-09  0.5000  0.000e+00  0.000e+00  0.000e+00  2.593e-05  1.251e-05  0.000e+00  0.000e+00\n",
      "  26  3.651e-02  0.000e+00  7.592e-06  1.518e-05  1.000e-09  1.000e-09  0.5000  0.000e+00  0.000e+00  0.000e+00  5.694e-06  2.096e-06  0.000e+00  0.000e+00\n",
      "  27  3.651e-02  0.000e+00  2.728e-06  5.457e-06  1.000e-09  1.000e-09  0.5000  0.000e+00  0.000e+00  0.000e+00  2.046e-06  7.136e-07  0.000e+00  0.000e+00\n",
      "  28  3.651e-02  0.000e+00  1.014e-06  2.028e-06  1.000e-09  1.000e-09  0.5000  0.000e+00  0.000e+00  0.000e+00  7.607e-07  2.580e-07  0.000e+00  0.000e+00\n",
      "  29  3.651e-02  0.000e+00  3.730e-07  7.459e-07  1.000e-09  1.000e-09  0.5000  0.000e+00  0.000e+00  0.000e+00  2.797e-07  9.019e-08  0.000e+00  0.000e+00\n",
      "iter    cost       merit      stop      |grad|      preg       dreg      step   ||ffeas||  ||gfeas||  ||hfeas||   dV-exp       dV      dPhi-exp     dPhi\n",
      "  30  3.651e-02  0.000e+00  1.383e-07  2.767e-07  1.000e-09  1.000e-09  0.5000  0.000e+00  0.000e+00  0.000e+00  1.038e-07  3.189e-08  0.000e+00  0.000e+00\n",
      "  31  3.651e-02  0.000e+00  5.142e-08  1.028e-07  1.000e-09  1.000e-09  0.5000  0.000e+00  0.000e+00  0.000e+00  3.856e-08  1.133e-08  0.000e+00  0.000e+00\n",
      "  32  3.651e-02  0.000e+00  1.924e-08  3.849e-08  1.000e-09  1.000e-09  0.5000  0.000e+00  0.000e+00  0.000e+00  1.443e-08  4.093e-09  0.000e+00  0.000e+00\n",
      "  33  3.651e-02  0.000e+00  7.225e-09  1.445e-08  1.000e-09  1.000e-09  0.5000  0.000e+00  0.000e+00  0.000e+00  5.419e-09  1.493e-09  0.000e+00  0.000e+00\n",
      "  34  3.651e-02  0.000e+00  2.723e-09  5.447e-09  1.000e-09  1.000e-09  0.5000  0.000e+00  0.000e+00  0.000e+00  2.043e-09  5.516e-10  0.000e+00  0.000e+00\n",
      "  35  3.651e-02  0.000e+00  1.029e-09  2.057e-09  1.000e-09  1.000e-09  0.5000  0.000e+00  0.000e+00  0.000e+00  7.714e-10  2.052e-10  0.000e+00  0.000e+00\n",
      "  36  3.651e-02  0.000e+00  3.892e-10  7.785e-10  1.000e-09  1.000e-09  0.5000  0.000e+00  0.000e+00  0.000e+00  2.919e-10  7.681e-11  0.000e+00  0.000e+00\n"
     ]
    },
    {
     "data": {
      "text/plain": [
       "True"
      ]
     },
     "execution_count": 17,
     "metadata": {},
     "output_type": "execute_result"
    }
   ],
   "source": [
    "# %load tp5/generated/panda_reaches_a_single_target_solve\n",
    "# Solving it using DDP\n",
    "# Create the DDP solver for this OC problem, verbose traces, with a logger\n",
    "ddp = crocoddyl.SolverDDP(problem)\n",
    "ddp.setCallbacks([\n",
    "    crocoddyl.CallbackLogger(),\n",
    "    crocoddyl.CallbackVerbose(),\n",
    "])\n",
    "\n",
    "# Solving it with the DDP algorithm\n",
    "ddp.solve([],[],1000)  # xs_init,us_init,maxiter\n"
   ]
  },
  {
   "cell_type": "markdown",
   "metadata": {},
   "source": [
    "You can now look at the results, either by plotting it or animating the trajectory in the viewer."
   ]
  },
  {
   "cell_type": "code",
   "execution_count": 18,
   "metadata": {},
   "outputs": [],
   "source": [
    "%matplotlib inline"
   ]
  },
  {
   "cell_type": "code",
   "execution_count": 19,
   "metadata": {},
   "outputs": [
    {
     "data": {
      "image/png": "[encoded data removed]",
      "text/plain": [
       "<Figure size 640x480 with 2 Axes>"
      ]
     },
     "metadata": {},
     "output_type": "display_data"
    },
    {
     "data": {
      "image/png": "[encoded data removed]",
      "text/plain": [
       "<Figure size 640x800 with 5 Axes>"
      ]
     },
     "metadata": {},
     "output_type": "display_data"
    }
   ],
   "source": [
    "# %load tp5/generated/panda_reaches_a_single_target_plot\n",
    "# Plotting the solution and the DDP convergence\n",
    "log = ddp.getCallbacks()[0]\n",
    "crocoddyl.plotOCSolution(log.xs, log.us, figIndex=1, show=False)\n",
    "crocoddyl.plotConvergence(\n",
    "    log.costs,\n",
    "    log.pregs,\n",
    "    log.dregs,\n",
    "    log.grads,\n",
    "    log.stops,\n",
    "    log.steps,\n",
    "    figIndex=2,\n",
    "    show=False,\n",
    ")\n"
   ]
  },
  {
   "cell_type": "code",
   "execution_count": 20,
   "metadata": {},
   "outputs": [],
   "source": [
    "#viz.viewer.jupyter_cell()"
   ]
  },
  {
   "cell_type": "code",
   "execution_count": 21,
   "metadata": {},
   "outputs": [],
   "source": [
    "# %load tp5/generated/panda_reaches_a_single_target_animate\n",
    "# # Visualizing the solution in gepetto-viewer\n",
    "viz.play([x[:robot.model.nq] for x in ddp.xs],TIME_STEP)"
   ]
  },
  {
   "cell_type": "markdown",
   "metadata": {},
   "source": [
    "## Extending the example for reaching a sequence of targets"
   ]
  },
  {
   "cell_type": "markdown",
   "metadata": {
    "jp-MarkdownHeadingCollapsed": true
   },
   "source": [
    "Now we ask you to modify this example to reach a sequence of targets $p_{*1},p_{*2},p_{*3},p_{*4}$. The optimal trajectory should use similar regularization, but with the reaching cost now varying it time: for the first quarter of nodes, the target is $p_{*1}$, then another quarter with $p_{*2}$ etc until the four targets are reached. Don't specify a particular velocity when reaching the point to let more freedom to the solver.\n",
    "\n",
    "Below is a quick guideline to help you."
   ]
  },
  {
   "cell_type": "markdown",
   "metadata": {},
   "source": [
    "### First step: prepare the environment"
   ]
  },
  {
   "cell_type": "markdown",
   "metadata": {
    "jp-MarkdownHeadingCollapsed": true
   },
   "source": [
    "Start by defining several targets (let's say 4 targets, all at x=0.4, and at y and z being either 0 or 0.4), and display then in the viewer."
   ]
  },
  {
   "cell_type": "code",
   "execution_count": 175,
   "metadata": {},
   "outputs": [],
   "source": [
    "import gepetuto.magic\n",
    "import crocoddyl\n",
    "import pinocchio as pin\n",
    "import numpy as np\n",
    "import example_robot_data as robex\n",
    "import matplotlib.pylab as plt\n",
    "import time"
   ]
  },
  {
   "cell_type": "code",
   "execution_count": 204,
   "metadata": {},
   "outputs": [
    {
     "name": "stdout",
     "output_type": "stream",
     "text": [
      "You can open the visualizer by visiting the following URL:\n",
      "http://127.0.0.1:7008/static/\n"
     ]
    }
   ],
   "source": [
    "# First, let's load the Pinocchio model for the Panda arm.\n",
    "robot = robex.load('panda')\n",
    "# The 2 last joints are for the fingers, not important in arm motion, freeze them\n",
    "robot.model,[robot.visual_model,robot.collision_model] = \\\n",
    "    pin.buildReducedModel(robot.model,[robot.visual_model,robot.collision_model],[8,9],robot.q0)\n",
    "robot.q0 = robot.q0[:7].copy()\n",
    "\n",
    "# load hyperparameters\n",
    "HORIZON_LENGTH = 100\n",
    "TIME_STEP = 1e-2\n",
    "FRAME_TIP = robot.model.getFrameId(\"panda_hand_tcp\")\n",
    "REACH_DIMENSION = \"6d\" # \"6d\"\n",
    "\n",
    "# Set robot model\n",
    "robot_model = robot.model\n",
    "robot_data = robot_model.createData()\n",
    "robot_model.armature = np.ones(robot.model.nv)*2 # Arbitrary value representing the true armature\n",
    "robot_model.gravity *= 0\n",
    "robot_model.q0 = robot.q0\n",
    "robot_model.x0 = np.concatenate([robot_model.q0, np.zeros(robot_model.nv)])\n",
    "\n",
    "# Open vizualisation\n",
    "from supaero2025.meshcat_viewer_wrapper import MeshcatVisualizer\n",
    "viz = MeshcatVisualizer(robot)\n",
    "viz.display(robot.q0)"
   ]
  },
  {
   "cell_type": "code",
   "execution_count": 213,
   "metadata": {},
   "outputs": [],
   "source": [
    "viz.display(robot.q0)\n",
    "REACH_DIMENSION = \"3d\" # \"6d\""
   ]
  },
  {
   "cell_type": "code",
   "execution_count": 214,
   "metadata": {},
   "outputs": [],
   "source": [
    "# Adding 4 targets goal\n",
    "POSITION1 = np.array([0,-.2,-.2])\n",
    "PLACEMENT1 = pin.SE3(pin.utils.rpyToMatrix(-np.pi,-1.5,1.5), POSITION1)\n",
    "viz.addBox('world/goal1',[.1,.1,.1],[0, 1, 0, 1])\n",
    "viz.applyConfiguration('world/goal1',PLACEMENT1)\n",
    "\n",
    "POSITION2 = np.array([0,.2,-.2])\n",
    "PLACEMENT2 = pin.SE3(pin.utils.rpyToMatrix(-np.pi,-1.5,1.5), POSITION2)\n",
    "viz.addBox('world/goal2',[.1,.1,.1],[1, 0, 0, 1])\n",
    "viz.applyConfiguration('world/goal2',PLACEMENT2)\n",
    "\n",
    "POSITION3 = np.array([0,.2,.2])\n",
    "PLACEMENT3 = pin.SE3(pin.utils.rpyToMatrix(-np.pi,-1.5,1.5), POSITION3)\n",
    "viz.addBox('world/goal3',[.1,.1,.1],[0, 0, 1, 1])\n",
    "viz.applyConfiguration('world/goal3',PLACEMENT3)\n",
    "\n",
    "POSITION4 = np.array([0,-.2,.2])\n",
    "PLACEMENT4 = pin.SE3(pin.utils.rpyToMatrix(-np.pi,-1.5,1.5), POSITION4)\n",
    "viz.addBox('world/goal4',[.1,.1,.1],[1, 1, 1, 1])\n",
    "viz.applyConfiguration('world/goal4',PLACEMENT4)\n",
    "\n",
    "pin.forwardKinematics(robot_model, robot_data, robot.q0)\n",
    "pin.updateFramePlacements(robot_model, robot_data)\n",
    "current_ee_placement = robot_data.oMf[FRAME_TIP]\n",
    "current_ee_position = current_ee_placement.translation\n",
    "\n",
    "# 2. Calculer les nouvelles positions et appliquer les configurations\n",
    "# Cube 1\n",
    "GOAL_POSITION1 = current_ee_position + POSITION1\n",
    "GOAL_PLACEMENT1 = pin.SE3(PLACEMENT1.rotation, GOAL_POSITION1)\n",
    "viz.applyConfiguration('world/goal1', GOAL_PLACEMENT1)\n",
    "\n",
    "# Cube 2\n",
    "GOAL_POSITION2 = current_ee_position + POSITION2\n",
    "GOAL_PLACEMENT2 = pin.SE3(PLACEMENT2.rotation, GOAL_POSITION2)\n",
    "viz.applyConfiguration('world/goal2', GOAL_PLACEMENT2)\n",
    "\n",
    "# Cube 3\n",
    "GOAL_POSITION3 = current_ee_position + POSITION3\n",
    "GOAL_PLACEMENT3 = pin.SE3(PLACEMENT3.rotation, GOAL_POSITION3)\n",
    "viz.applyConfiguration('world/goal3', GOAL_PLACEMENT3)\n",
    "\n",
    "# Cube 4\n",
    "GOAL_POSITION4 = current_ee_position + POSITION4\n",
    "GOAL_PLACEMENT4 = pin.SE3(PLACEMENT4.rotation, GOAL_POSITION4)\n",
    "viz.applyConfiguration('world/goal4', GOAL_PLACEMENT4)\n"
   ]
  },
  {
   "cell_type": "markdown",
   "metadata": {},
   "source": [
    "### Second step: define the shooting problem"
   ]
  },
  {
   "cell_type": "markdown",
   "metadata": {
    "jp-MarkdownHeadingCollapsed": true
   },
   "source": [
    "The shooting problem will be composed of 4 sequences of action models. Each sequence consists on T shooting \"running\" nodes and 1 terminal node. The running nodes mostly have regularization terms, while the terminal nodes have a strong cost toward the respective target.\n",
    "\n",
    "$[ R_1,R_1,R_1 ... R_1,T_1, R_2,R_2 .... R_2, T_2, R_3 ... R_3, T_3, R_4 ... R_4 ] , T4\n",
    "\n",
    "First create 4 running models and 4 terminal models."
   ]
  },
  {
   "cell_type": "code",
   "execution_count": 222,
   "metadata": {},
   "outputs": [],
   "source": [
    "# initialisation de Crocoddyl, envoi du modèle\n",
    "state = crocoddyl.StateMultibody(robot_model) # On définit l'état du système\n",
    "actuation = crocoddyl.ActuationModelFull(state) # On définit l'actionnement (ce que l'on contrôle)\n",
    "\n",
    "# on définit le nombre de target\n",
    "N_TARGETS = 4\n",
    "\n",
    "# Initialisation des listes de coûts (running + terminal)\n",
    "all_running_costs = []\n",
    "all_terminal_costs = []\n",
    "\n",
    "for i in range(N_TARGETS):\n",
    "    # À chaque itération, on crée une nouvelle instance pour le running et le terminal...\n",
    "    running_cost = crocoddyl.CostModelSum(state)\n",
    "    terminal_cost = crocoddyl.CostModelSum(state)\n",
    "    \n",
    "    # ... et on les ajoute à nos listes.\n",
    "    all_running_costs.append(running_cost)\n",
    "    all_terminal_costs.append(terminal_cost)"
   ]
  },
  {
   "cell_type": "markdown",
   "metadata": {},
   "source": [
    "Then you need to add a position cost, and state and control regularization to each running action model. Please  note that for terminal action model is only needed the position cost. Additionally, in the running models, the position cost should be low, and it should be high in the terminal models."
   ]
  },
  {
   "cell_type": "code",
   "execution_count": 223,
   "metadata": {},
   "outputs": [],
   "source": [
    "# On définit les coût de tracking (running + terminal)\n",
    "# préparation des données\n",
    "all_goal_positions = [GOAL_POSITION1, GOAL_POSITION2, GOAL_POSITION3, GOAL_POSITION4]\n",
    "all_goal_placements = [GOAL_PLACEMENT1, GOAL_PLACEMENT2, GOAL_PLACEMENT3, GOAL_PLACEMENT4]\n",
    "\n",
    "# On définit ici le type de modèle de résidu, les poids et la liste des cibles à utiliser\n",
    "if REACH_DIMENSION == \"3d\":\n",
    "    ResidualModel = crocoddyl.ResidualModelFrameTranslation\n",
    "    targets = all_goal_positions\n",
    "    activation_weights = np.array([1., 1., 1.])\n",
    "elif REACH_DIMENSION == \"6d\":\n",
    "    ResidualModel = crocoddyl.ResidualModelFramePlacement\n",
    "    targets = all_goal_placements\n",
    "    activation_weights = np.array([1., 1., 1., 1., 1., 1.])\n",
    "else:\n",
    "    raise ValueError(\"REACH_DIMENSION doit être '3d' ou '6d'\")\n",
    "\n",
    "# Modèle des coûts de tracking.\n",
    "goal_activation = crocoddyl.ActivationModelWeightedQuad(activation_weights)\n",
    "\n",
    "# on assigne à chaque target.\n",
    "for i, (target, run_cost, term_cost) in enumerate(zip(targets, all_running_costs, all_terminal_costs)):\n",
    "    \n",
    "    # Créer le résidu spécifique pour cette cible\n",
    "    # ResidualModel est soit ResidualModelFrameTranslation soit ResidualModelFramePlacement\n",
    "    goal_residual = ResidualModel(state, FRAME_TIP, target)\n",
    "    \n",
    "    # Créer le modèle de coût final en combinant le résidu et le modèle d'activation\n",
    "    goal_cost = crocoddyl.CostModelResidual(state, goal_activation, goal_residual)\n",
    "    \n",
    "    # Ajouter ce coût au bon `CostModelSum` (running et terminal)\n",
    "    # On utilise des noms uniques (f-string) pour une meilleure clarté\n",
    "    run_cost.addCost(f\"gripper_pose_{i+1}\", goal_cost, 0.001)\n",
    "    term_cost.addCost(f\"gripper_pose_{i+1}\", goal_cost, 10000.0)"
   ]
  },
  {
   "cell_type": "code",
   "execution_count": 224,
   "metadata": {},
   "outputs": [],
   "source": [
    "# on cré maintenant la régulation. cela permet de lisser le comportement du robot\n",
    "# 1 - Régulation pendant le mouvement (plus fort en vitesse qu'en position) || x - x* ||**2\n",
    "xRegWeights = crocoddyl.ActivationModelWeightedQuad(np.array([1.0]*7 + [0.5]*7))\n",
    "xRegRes = crocoddyl.ResidualModelState(state,robot_model.x0)\n",
    "xRegCost = crocoddyl.CostModelResidual(state,xRegWeights,xRegRes)\n",
    "for running_model in all_running_costs:\n",
    "    running_model.addCost(\"stateReg\", xRegCost, 1e-3)\n",
    "\n",
    "# 2 - Régulation à la fin du mouvement || x - x* ||**2\n",
    "# Require more strictly a small velocity at task end (but we don't car for the position)\n",
    "xRegWeightsT=crocoddyl.ActivationModelWeightedQuad(np.array(np.array([0.5]*7 + [5.0]*7)))\n",
    "xRegResT = crocoddyl.ResidualModelState(state,robot_model.x0)\n",
    "xRegCostT = crocoddyl.CostModelResidual(state,xRegWeightsT,xRegResT)\n",
    "for terminal_model in all_terminal_costs:\n",
    "    terminal_model.addCost(\"stateReg\", xRegCost, .01)\n",
    "\n",
    "# 3 - Régulation de la commande || u - g(q) ||**2\n",
    "uRegRes = crocoddyl.ResidualModelControlGrav(state)\n",
    "uRegCost = crocoddyl.CostModelResidual(state,uRegRes)\n",
    "for running_model in all_running_costs:\n",
    "    running_model.addCost(\"uReg\", uRegCost, 1e-6)"
   ]
  },
  {
   "cell_type": "code",
   "execution_count": 225,
   "metadata": {},
   "outputs": [],
   "source": [
    "# ecriture du probleme\n",
    "# Next, we need to create the running and terminal action model.\n",
    "# The forward dynamics (computed using ABA) are implemented\n",
    "# inside DifferentialActionModelFullyActuated.\n",
    "\n",
    "runningModels = []\n",
    "terminalModels = []\n",
    "\n",
    "# The actuation model is here trivial: tau_q = u.\n",
    "actuationModel = crocoddyl.ActuationModelFull(state)\n",
    "\n",
    "# Pour les parties running\n",
    "for running_cost in all_running_costs:\n",
    "    # a. Créer le modèle différentiel \n",
    "    dam = crocoddyl.DifferentialActionModelFreeFwdDynamics(state, actuationModel, running_cost)\n",
    "    dam.armature = robot_model.armature  # Assigner l'armature au modèle différentiel\n",
    "\n",
    "    # b. Créer le modèle intégré (l'instruction discrète)\n",
    "    iam = crocoddyl.IntegratedActionModelEuler(dam, TIME_STEP)\n",
    "    runningModels.append(iam)\n",
    "\n",
    "# Pour les partie terminales\n",
    "for terminal_cost in all_terminal_costs:\n",
    "    # a. Créer le modèle différentiel\n",
    "    dam = crocoddyl.DifferentialActionModelFreeFwdDynamics(state, actuationModel, terminal_cost)\n",
    "    dam.armature = robot_model.armature\n",
    "\n",
    "    # b. Créer le modèle intégré avec un pas de temps de 0.0\n",
    "    # Cela signifie au solveur que c'est un noeud terminal : il n'y a pas\n",
    "    # de dynamique à intégrer, seulement des coûts à évaluer.\n",
    "    iam = crocoddyl.IntegratedActionModelEuler(dam, 0.0)\n",
    "    terminalModels.append(iam)\n"
   ]
  },
  {
   "cell_type": "markdown",
   "metadata": {},
   "source": [
    "Now create a shooting problem."
   ]
  },
  {
   "cell_type": "code",
   "execution_count": 226,
   "metadata": {},
   "outputs": [],
   "source": [
    "seq0 = [runningModels[0]] * (HORIZON_LENGTH - 1) + [terminalModels[0]]\n",
    "seq1 = [runningModels[1]] * (HORIZON_LENGTH - 1) + [terminalModels[1]]\n",
    "seq2 = [runningModels[2]] * (HORIZON_LENGTH - 1) + [terminalModels[2]]\n",
    "seq3 = [runningModels[3]] * (HORIZON_LENGTH - 1) \n",
    "problem = crocoddyl.ShootingProblem(robot_model.x0,seq0+seq1+seq2+seq3,terminalModels[3])"
   ]
  },
  {
   "cell_type": "markdown",
   "metadata": {},
   "source": [
    "Create a DDP solver for this problem and run it. "
   ]
  },
  {
   "cell_type": "code",
   "execution_count": 227,
   "metadata": {},
   "outputs": [
    {
     "name": "stdout",
     "output_type": "stream",
     "text": [
      "iter    cost       merit      stop      |grad|      preg       dreg      step   ||ffeas||  ||gfeas||  ||hfeas||   dV-exp       dV      dPhi-exp     dPhi\n",
      "   0  1.403e+02  0.000e+00  5.316e+02  1.063e+03  1.000e-09  1.000e-09  1.0000  2.356e+00  0.000e+00  0.000e+00  5.316e+02  3.913e+02  0.000e+00  0.000e+00\n",
      "   1  9.943e+01  0.000e+00  1.403e+02  2.807e+02  1.000e-09  1.000e-09  1.0000  0.000e+00  0.000e+00  0.000e+00  1.403e+02  4.092e+01  0.000e+00  0.000e+00\n",
      "   2  1.287e+01  0.000e+00  9.943e+01  1.989e+02  1.000e-09  1.000e-09  1.0000  0.000e+00  0.000e+00  0.000e+00  9.943e+01  8.656e+01  0.000e+00  0.000e+00\n",
      "   3  3.619e-01  0.000e+00  1.287e+01  2.574e+01  1.000e-09  1.000e-09  1.0000  0.000e+00  0.000e+00  0.000e+00  1.287e+01  1.251e+01  0.000e+00  0.000e+00\n",
      "   4  8.081e-03  0.000e+00  3.619e-01  7.237e-01  1.000e-09  1.000e-09  1.0000  0.000e+00  0.000e+00  0.000e+00  3.619e-01  3.538e-01  0.000e+00  0.000e+00\n",
      "   5  4.017e-05  0.000e+00  8.076e-03  1.615e-02  1.000e-09  1.000e-09  1.0000  0.000e+00  0.000e+00  0.000e+00  8.076e-03  8.041e-03  0.000e+00  0.000e+00\n",
      "   6  5.110e-06  0.000e+00  3.536e-05  7.072e-05  1.000e-09  1.000e-09  1.0000  0.000e+00  0.000e+00  0.000e+00  3.536e-05  3.506e-05  0.000e+00  0.000e+00\n",
      "   7  4.814e-06  0.000e+00  2.970e-07  5.940e-07  1.000e-09  1.000e-09  1.0000  0.000e+00  0.000e+00  0.000e+00  2.970e-07  2.961e-07  0.000e+00  0.000e+00\n",
      "   8  4.813e-06  0.000e+00  8.765e-10  1.753e-09  1.000e-09  1.000e-09  1.0000  0.000e+00  0.000e+00  0.000e+00  8.765e-10  8.725e-10  0.000e+00  0.000e+00\n"
     ]
    },
    {
     "data": {
      "text/plain": [
       "True"
      ]
     },
     "execution_count": 227,
     "metadata": {},
     "output_type": "execute_result"
    }
   ],
   "source": [
    "# Solving it using DDP\n",
    "# Create the DDP solver for this OC problem, verbose traces, with a logger\n",
    "ddp = crocoddyl.SolverDDP(problem)\n",
    "ddp.setCallbacks([\n",
    "    crocoddyl.CallbackLogger(),\n",
    "    crocoddyl.CallbackVerbose(),\n",
    "])\n",
    "\n",
    "# Solving it with the DDP algorithm\n",
    "ddp.solve([],[],10000)  # xs_init,us_init,maxiter"
   ]
  },
  {
   "cell_type": "code",
   "execution_count": 228,
   "metadata": {},
   "outputs": [],
   "source": [
    "# # Visualizing the solution in gepetto-viewer\n",
    "viz.play([x[:robot.model.nq] for x in ddp.xs],TIME_STEP)"
   ]
  },
  {
   "cell_type": "code",
   "execution_count": 191,
   "metadata": {},
   "outputs": [
    {
     "name": "stdout",
     "output_type": "stream",
     "text": [
      "Visualizing the solution...\n"
     ]
    }
   ],
   "source": [
    "# Visualizing the solution\n",
    "print(\"Visualizing the solution...\")\n",
    "viz.play([x[:robot.model.nq] for x in ddp.xs], TIME_STEP)"
   ]
  },
  {
   "cell_type": "markdown",
   "metadata": {},
   "source": [
    "Well, it should not work, at least no on the first shot. The DDP solver is likely not strong enough to accept the random weights that you have selected. \n",
    "\n",
    "If it is working nicely from the first shot, display it in the viewer and go take a coffee. But you will likely have to tweak the gains to make it work.\n",
    "\n",
    "**It is suggested to first optimize only sequence 1. When you are happy with it, add sequence 2 and optimize again, etc.**\n"
   ]
  },
  {
   "cell_type": "markdown",
   "metadata": {},
   "source": [
    "### Toward hard constraints"
   ]
  },
  {
   "cell_type": "markdown",
   "metadata": {
    "jp-MarkdownHeadingCollapsed": true
   },
   "source": [
    "The solver works with double precisions, so it is quite robust to high weight. 10000 is likely to be accepted for example. But if you make the problem too difficult, the solver will break. \n",
    "In that case, you can implement a simple penalty solver by setting the weight to be 10**i, and creating a for loop to explore i from 0 to 5. At each iteration of the loop, run the solver from the previous solution and for few iterations only."
   ]
  },
  {
   "cell_type": "code",
   "execution_count": 76,
   "metadata": {},
   "outputs": [
    {
     "ename": "AttributeError",
     "evalue": "'IntegratedActionModelEuler' object has no attribute 'costs'",
     "output_type": "error",
     "traceback": [
      "\u001b[31m---------------------------------------------------------------------------\u001b[39m",
      "\u001b[31mAttributeError\u001b[39m                            Traceback (most recent call last)",
      "\u001b[36mCell\u001b[39m\u001b[36m \u001b[39m\u001b[32mIn[76]\u001b[39m\u001b[32m, line 3\u001b[39m\n\u001b[32m      1\u001b[39m \u001b[38;5;28;01mfor\u001b[39;00m i \u001b[38;5;129;01min\u001b[39;00m \u001b[38;5;28mrange\u001b[39m(\u001b[32m1\u001b[39m,\u001b[32m6\u001b[39m):\n\u001b[32m      2\u001b[39m     \u001b[38;5;28;01mfor\u001b[39;00m m \u001b[38;5;129;01min\u001b[39;00m terminalModels:\n\u001b[32m----> \u001b[39m\u001b[32m3\u001b[39m         \u001b[43mm\u001b[49m\u001b[43m.\u001b[49m\u001b[43mcosts\u001b[49m.costs[\u001b[33m'\u001b[39m\u001b[33mgripperPose\u001b[39m\u001b[33m'\u001b[39m].weight = \u001b[32m10\u001b[39m**i\n\u001b[32m      4\u001b[39m     ddp.solve(ddp.xs, ddp.us, \u001b[32m10\u001b[39m)\n",
      "\u001b[31mAttributeError\u001b[39m: 'IntegratedActionModelEuler' object has no attribute 'costs'"
     ]
    }
   ],
   "source": [
    "for i in range(1,6):\n",
    "    for m in terminalModels:\n",
    "        m.costs.costs['gripperPose'].weight = 10**i\n",
    "    ddp.solve(ddp.xs, ddp.us, 10)"
   ]
  },
  {
   "cell_type": "markdown",
   "metadata": {},
   "source": [
    "This not very convenient, and a better solver should be used if you really want imposing hard constraints. Let's do that next."
   ]
  },
  {
   "cell_type": "markdown",
   "metadata": {},
   "source": [
    "----\n",
    "## Adding hard constraints"
   ]
  },
  {
   "cell_type": "markdown",
   "metadata": {},
   "source": [
    "### MIM Solver"
   ]
  },
  {
   "cell_type": "markdown",
   "metadata": {},
   "source": [
    "In this last chapter, we guide you through the advanced, more recent, constraint interface. It is composed of two parts. First, constraints can be defined in the front end, following a similar logic to costs, and using again the residual models. That should be pretty straight forward now you are proficient with cost models. Second, we need another solver. DDP is not aware of constraints and would just skip them. More advanced solvers are available. We propose here to use the recent SQP from the team \"Machine in Motion\" led by Ludovic Righetti at NYU, described in \n",
    "https://laas.hal.science/hal-04330251\n",
    "\n",
    "The implementation of the solver is available is the GitHub repository https://github.com/machines-in-motion/mim_solvers"
   ]
  },
  {
   "cell_type": "markdown",
   "metadata": {},
   "source": [
    "### Preparing the environment\n",
    "For this example, we will impose a virtual wall in front of the robot, with the following parameters."
   ]
  },
  {
   "cell_type": "code",
   "execution_count": 140,
   "metadata": {},
   "outputs": [],
   "source": [
    "# %load tp5/generated/panda_reaches_with_constraints_hyperparameters\n",
    "X_WALL_LOWER = .30\n",
    "X_WALL_UPPER = .70\n",
    "\n",
    "# ---- Calcul des propriétés de la boîte représentant le mur ----\n",
    "\n",
    "# 1. Dimensions de la boîte [dx, dy, dz]\n",
    "# dx = épaisseur du mur en X\n",
    "wall_thickness = X_WALL_UPPER - X_WALL_LOWER\n",
    "# dy = largeur du mur en Y (choisir une taille suffisante pour l'espace de travail)\n",
    "wall_y_size = 1.0 # Exemple : 1 mètre de large\n",
    "# dz = hauteur du mur en Z (choisir une taille suffisante pour l'espace de travail)\n",
    "wall_z_size = 1.0 # Exemple : 1 mètre de haut\n",
    "\n",
    "box_dimensions = [wall_thickness, wall_y_size, wall_z_size]\n",
    "\n",
    "# 2. Couleur de la boîte [r, g, b, a]\n",
    "# Exemple : Gris clair semi-transparent\n",
    "box_color = [0.7, 0.7, 0.7, 0.6] # RGBA (alpha=0.6 pour la transparence)\n",
    "\n",
    "# 3. Pose de la boîte (pin.SE3)\n",
    "# La translation définit la position du *centre* de la boîte.\n",
    "# Le centre en X est au milieu de la plage [X_WALL_LOWER, X_WALL_UPPER]\n",
    "wall_center_x = (X_WALL_LOWER + X_WALL_UPPER) / 2\n",
    "# Le centre en Y est généralement à 0 si le robot opère autour de Y=0\n",
    "wall_center_y = 0.0\n",
    "# Le centre en Z est à la moitié de la hauteur si la base du mur est au sol (Z=0)\n",
    "wall_center_z = wall_z_size / 2.0\n",
    "\n",
    "wall_translation = np.array([wall_center_x, wall_center_y, wall_center_z])\n",
    "\n",
    "# La rotation est généralement l'identité pour un mur aligné avec les axes\n",
    "wall_rotation = np.eye(3)\n",
    "\n",
    "# Créez l'objet pin.SE3 pour la pose\n",
    "wall_pose = pin.SE3(wall_rotation, wall_translation)\n",
    "\n",
    "viz.addBox('world/virtual_wall', box_dimensions, box_color)\n",
    "viz.applyConfiguration('world/virtual_wall', wall_pose)\n"
   ]
  },
  {
   "cell_type": "markdown",
   "metadata": {},
   "source": [
    "### Defining the constraints\n",
    "\n",
    "Similarly to the sum-of-costs, all constraints must be stored in a constraint manager, which is given as initial argument when building a differential action model."
   ]
  },
  {
   "cell_type": "code",
   "execution_count": 141,
   "metadata": {},
   "outputs": [],
   "source": [
    "# %load tp5/generated/panda_reaches_with_constraints_constraint_manager\n",
    "# Define contraint\n",
    "runningConstraints = crocoddyl.ConstraintModelManager(state, robot_model.nv)\n"
   ]
  },
  {
   "cell_type": "markdown",
   "metadata": {},
   "source": [
    "We propose here to introduce a virtual wall constraining the end effector. For that, we use the same frame-translation residual. The constraint is defined along each axis with constant bounds, and np.inf when a particular direction should not be considered."
   ]
  },
  {
   "cell_type": "code",
   "execution_count": 142,
   "metadata": {},
   "outputs": [],
   "source": [
    "# %load tp5/generated/panda_reaches_with_constraints_eewall\n",
    "# Create contraint on end-effector\n",
    "frameTranslationResidual = crocoddyl.ResidualModelFrameTranslation(\n",
    "    state, FRAME_TIP, np.zeros(3)\n",
    ")\n",
    "eeWallContraint = crocoddyl.ConstraintModelResidual(\n",
    "    state,\n",
    "    frameTranslationResidual,\n",
    "    np.array([X_WALL_LOWER, -np.inf, -np.inf]),\n",
    "    np.array([X_WALL_UPPER, +np.inf, +np.inf]),\n",
    ")\n",
    "runningConstraints.addConstraint(\"ee_wall\", eeWallContraint)\n"
   ]
  },
  {
   "cell_type": "markdown",
   "metadata": {},
   "source": [
    "Then you can build a new action model with this constraint. We advise you don't constrain the initial node, as it easily leads to a unfeasible problem if $x_0$ does not satisfy the constraints. "
   ]
  },
  {
   "cell_type": "code",
   "execution_count": 143,
   "metadata": {},
   "outputs": [],
   "source": [
    "# %load tp5/generated/panda_reaches_with_constraints_iam\n",
    "# Next, we need to create the running and terminal action model.\n",
    "# The forward dynamics (computed using ABA) are implemented\n",
    "# inside DifferentialActionModelFullyActuated.\n",
    "\n",
    "# The actuation model is here trivial: tau_q = u.\n",
    "actuationModel = crocoddyl.ActuationModelFull(state)\n",
    "# Running model composing the costs, the differential equations of motion and the integrator.\n",
    "runningModel = crocoddyl.IntegratedActionModelEuler(\n",
    "    crocoddyl.DifferentialActionModelFreeFwdDynamics(\n",
    "        state, actuationModel, runningCostModel, runningConstraints),\n",
    "    TIME_STEP)\n",
    "runningModel.differential.armature = robot_model.armature\n",
    "# Specific unconstrained initial model\n",
    "runningModel_init = crocoddyl.IntegratedActionModelEuler(\n",
    "    crocoddyl.DifferentialActionModelFreeFwdDynamics(\n",
    "        state, actuationModel, runningCostModel),\n",
    "    TIME_STEP)\n",
    "runningModel.differential.armature = robot_model.armature\n",
    "# Terminal model following the same logic, although the integration is here trivial.\n",
    "terminalModel = crocoddyl.IntegratedActionModelEuler(\n",
    "    crocoddyl.DifferentialActionModelFreeFwdDynamics(state, actuationModel, terminalCostModel), 0.)\n",
    "terminalModel.differential.armature = robot_model.armature\n"
   ]
  },
  {
   "cell_type": "code",
   "execution_count": 144,
   "metadata": {},
   "outputs": [],
   "source": [
    "# %load tp5/generated/panda_reaches_with_constraints_shoot\n",
    "problem = crocoddyl.ShootingProblem(robot_model.x0,\n",
    "                                    [runningModel_init] + [runningModel] * (HORIZON_LENGTH - 1),\n",
    "                                    terminalModel)\n"
   ]
  },
  {
   "cell_type": "markdown",
   "metadata": {},
   "source": [
    "### Working with the SQP solver of MIM\n",
    "The solver follows a very similar syntax to the DDP solver. "
   ]
  },
  {
   "cell_type": "code",
   "execution_count": 145,
   "metadata": {},
   "outputs": [],
   "source": [
    "# %load tp5/generated/panda_reaches_with_constraints_solver\n",
    "solver = mim_solvers.SolverCSQP(problem)\n",
    "solver.with_callbacks = True \n",
    "solver.termination_tolerance = 1e-3         # Termination criteria (KKT residual)\n",
    "solver.max_qp_iters = 1000                  # Maximum number of QP iteration\n",
    "solver.eps_abs = 1e-5                       # QP termination absolute criteria, 1e-9 \n",
    "solver.eps_rel = 0.                         # QP termination absolute criteria\n",
    "solver.use_filter_line_search = True        # True by default, False = use merit function\n"
   ]
  },
  {
   "cell_type": "markdown",
   "metadata": {},
   "source": [
    "Now solver, and as usual plot the result and animate the motion."
   ]
  },
  {
   "cell_type": "code",
   "execution_count": 146,
   "metadata": {},
   "outputs": [
    {
     "data": {
      "text/plain": [
       "<matplotlib.legend.Legend at 0x7546dfceb1a0>"
      ]
     },
     "execution_count": 146,
     "metadata": {},
     "output_type": "execute_result"
    },
    {
     "data": {
      "image/png": "[encoded data removed]",
      "text/plain": [
       "<Figure size 640x480 with 1 Axes>"
      ]
     },
     "metadata": {},
     "output_type": "display_data"
    }
   ],
   "source": [
    "# %load tp5/generated/panda_reaches_with_constraints_solve_and_plot\n",
    "# Solving it with the DDP algorithm\n",
    "solver.solve([],[],1000)  # xs_init,us_init,maxiter\n",
    "#assert( ddp.stop == 1.9384159634520916e-10 )\n",
    "\n",
    "ees = [ d.differential.pinocchio.oMf[FRAME_TIP].translation for d in solver.problem.runningDatas ]\n",
    "plt.plot(ees)\n",
    "plt.plot([0,HORIZON_LENGTH],[X_WALL_UPPER,X_WALL_UPPER],'b--')\n",
    "plt.plot([0,HORIZON_LENGTH],[X_WALL_LOWER,X_WALL_LOWER],'b--')\n",
    "plt.legend(['x', 'y', 'z'])\n"
   ]
  },
  {
   "cell_type": "code",
   "execution_count": null,
   "metadata": {},
   "outputs": [],
   "source": [
    "viz.viewer.jupyter_cell()"
   ]
  },
  {
   "cell_type": "code",
   "execution_count": 147,
   "metadata": {},
   "outputs": [],
   "source": [
    "# %load tp5/generated/panda_reaches_with_constraints_animate\n",
    "# Visualizing the solution in gepetto-viewer\n",
    "viz.play([x[:robot.model.nq] for x in solver.xs],TIME_STEP)\n"
   ]
  },
  {
   "cell_type": "markdown",
   "metadata": {},
   "source": [
    "----\n",
    "## Homework\n",
    "Using all the content provided in this notebook, now write your own optimal control problem solving a 4-point sequences with virtual walls."
   ]
  },
  {
   "cell_type": "markdown",
   "metadata": {
    "jp-MarkdownHeadingCollapsed": true
   },
   "source": [
    "The work plan is as follows:\n",
    "\n",
    "1. First take the 4-point OCP you wrote in the first part. The motion finally obtained is typically a circle containing the four target points. \n",
    "2. Add some bounds to sharpen the circle, so that the arcs are flattened by the virtual walls.\n",
    "3. Rewrite the motion objective with constraints, by imposing the targets passing points as constraints rather than defining them as costs. The constraints should then be equality, while they were inequalities up to now. This can be implemented by putting two equal bounds.\n",
    "4. Add joint limits. You will use the residual state for that. The bounds can be obtained from the URDF model through:"
   ]
  },
  {
   "cell_type": "code",
   "execution_count": null,
   "metadata": {},
   "outputs": [],
   "source": [
    "robot_model.lowerPositionLimit, robot_model.upperPositionLimit, robot_model.velocityLimit"
   ]
  },
  {
   "cell_type": "markdown",
   "metadata": {},
   "source": [
    "Managing to succeed to the 4 objectives is likely difficult and it is acceptable to only provide a solution with 2 or 3 of the items properly implemented."
   ]
  },
  {
   "cell_type": "markdown",
   "metadata": {},
   "source": [
    "**Implement the described optimal control problem, solve it with MIM solver and display the result as an animation in MeshCat and by plotting the effector trajectory and the imposed Cartesian constraints, and the joint trajectories with respect to the joint limits.**"
   ]
  },
  {
   "cell_type": "code",
   "execution_count": 11,
   "metadata": {},
   "outputs": [],
   "source": [
    "import gepetuto.magic\n",
    "import crocoddyl\n",
    "import pinocchio as pin\n",
    "import numpy as np\n",
    "import example_robot_data as robex\n",
    "import matplotlib.pylab as plt\n",
    "import time\n",
    "import mim_solvers"
   ]
  },
  {
   "cell_type": "code",
   "execution_count": 13,
   "metadata": {},
   "outputs": [
    {
     "name": "stdout",
     "output_type": "stream",
     "text": [
      "You can open the visualizer by visiting the following URL:\n",
      "http://127.0.0.1:7002/static/\n"
     ]
    }
   ],
   "source": [
    "# First, let's load the Pinocchio model for the Panda arm.\n",
    "robot = robex.load('panda')\n",
    "# The 2 last joints are for the fingers, not important in arm motion, freeze them\n",
    "robot.model,[robot.visual_model,robot.collision_model] = \\\n",
    "    pin.buildReducedModel(robot.model,[robot.visual_model,robot.collision_model],[8,9],robot.q0)\n",
    "robot.q0 = robot.q0[:7].copy()\n",
    "\n",
    "# load hyperparameters\n",
    "HORIZON_LENGTH = 400\n",
    "TIME_STEP = 1e-2\n",
    "FRAME_TIP = robot.model.getFrameId(\"panda_hand_tcp\")\n",
    "REACH_DIMENSION = \"3d\" # \"6d\"\n",
    "\n",
    "GOAL1_INDEX = 99  \n",
    "GOAL2_INDEX = 199 \n",
    "GOAL3_INDEX = 299\n",
    "# GOAL4 sera la cible terminale au pas k=399 (HORIZON_LENGTH - 1)\n",
    "GOAL4_INDEX = HORIZON_LENGTH - 1\n",
    "\n",
    "# Set robot model\n",
    "robot_model = robot.model\n",
    "robot_data = robot_model.createData()\n",
    "robot_model.armature = np.ones(robot.model.nv)*2 # Arbitrary value representing the true armature\n",
    "robot_model.gravity *= 0\n",
    "robot_model.q0 = robot.q0\n",
    "robot_model.x0 = np.concatenate([robot_model.q0, np.zeros(robot_model.nv)])\n",
    "\n",
    "# Open vizualisation\n",
    "from supaero2025.meshcat_viewer_wrapper import MeshcatVisualizer\n",
    "viz = MeshcatVisualizer(robot)\n",
    "viz.display(robot.q0)"
   ]
  },
  {
   "cell_type": "code",
   "execution_count": 14,
   "metadata": {},
   "outputs": [],
   "source": [
    "# Adding 4 targets goal\n",
    "POSITION1 = np.array([0,-.2,-.2])\n",
    "PLACEMENT1 = pin.SE3(pin.utils.rpyToMatrix(-np.pi,-1.5,1.5), POSITION1)\n",
    "viz.addBox('world/goal1',[.1,.1,.1],[0, 1, 0, 1])\n",
    "viz.applyConfiguration('world/goal1',PLACEMENT1)\n",
    "\n",
    "POSITION2 = np.array([0,.2,-.2])\n",
    "PLACEMENT2 = pin.SE3(pin.utils.rpyToMatrix(-np.pi,-1.5,1.5), POSITION2)\n",
    "viz.addBox('world/goal2',[.1,.1,.1],[1, 0, 0, 1])\n",
    "viz.applyConfiguration('world/goal2',PLACEMENT2)\n",
    "\n",
    "POSITION3 = np.array([0,.2,.2])\n",
    "PLACEMENT3 = pin.SE3(pin.utils.rpyToMatrix(-np.pi,-1.5,1.5), POSITION3)\n",
    "viz.addBox('world/goal3',[.1,.1,.1],[0, 0, 1, 1])\n",
    "viz.applyConfiguration('world/goal3',PLACEMENT3)\n",
    "\n",
    "POSITION4 = np.array([0,-.2,.2])\n",
    "PLACEMENT4 = pin.SE3(pin.utils.rpyToMatrix(-np.pi,-1.5,1.5), POSITION4)\n",
    "viz.addBox('world/goal4',[.1,.1,.1],[1, 1, 1, 1])\n",
    "viz.applyConfiguration('world/goal4',PLACEMENT4)\n",
    "\n",
    "pin.forwardKinematics(robot_model, robot_data, robot.q0)\n",
    "pin.updateFramePlacements(robot_model, robot_data)\n",
    "current_ee_placement = robot_data.oMf[FRAME_TIP]\n",
    "current_ee_position = current_ee_placement.translation\n",
    "\n",
    "# 2. Calculer les nouvelles positions et appliquer les configurations\n",
    "# Cube 1\n",
    "GOAL_POSITION1 = current_ee_position + POSITION1\n",
    "GOAL_PLACEMENT1 = pin.SE3(PLACEMENT1.rotation, GOAL_POSITION1)\n",
    "viz.applyConfiguration('world/goal1', GOAL_PLACEMENT1)\n",
    "\n",
    "# Cube 2\n",
    "GOAL_POSITION2 = current_ee_position + POSITION2\n",
    "GOAL_PLACEMENT2 = pin.SE3(PLACEMENT2.rotation, GOAL_POSITION2)\n",
    "viz.applyConfiguration('world/goal2', GOAL_PLACEMENT2)\n",
    "\n",
    "# Cube 3\n",
    "GOAL_POSITION3 = current_ee_position + POSITION3\n",
    "GOAL_PLACEMENT3 = pin.SE3(PLACEMENT3.rotation, GOAL_POSITION3)\n",
    "viz.applyConfiguration('world/goal3', GOAL_PLACEMENT3)\n",
    "\n",
    "# Cube 4\n",
    "GOAL_POSITION4 = current_ee_position + POSITION4\n",
    "GOAL_PLACEMENT4 = pin.SE3(PLACEMENT4.rotation, GOAL_POSITION4)\n",
    "viz.applyConfiguration('world/goal4', GOAL_PLACEMENT4)\n",
    "\n",
    "# on ajoute le mur de contrainte (plage voulue pour le mouvement de l'effecteur\n",
    "X_WALL_LOWER = current_ee_position[0] - .05\n",
    "X_WALL_UPPER = current_ee_position[0] + .05\n",
    "Y_WALL_LOWER = current_ee_position[1] - .35\n",
    "Y_WALL_UPPER = current_ee_position[1] + .35\n",
    "Z_WALL_LOWER = current_ee_position[2] - .35\n",
    "Z_WALL_UPPER = current_ee_position[2] + .35\n",
    "\n",
    "# 1. Dimensions du mur [dx, dy, dz]\n",
    "# dx = épaisseur du mur en X\n",
    "wall_thickness = X_WALL_UPPER - X_WALL_LOWER\n",
    "# dy = largeur du mur en Y (choisir une taille suffisante pour l'espace de travail)\n",
    "wall_y_size = Y_WALL_UPPER - Y_WALL_LOWER\n",
    "# dz = hauteur du mur en Z (choisir une taille suffisante pour l'espace de travail)\n",
    "wall_z_size = Z_WALL_UPPER - Z_WALL_LOWER\n",
    "\n",
    "box_dimensions = [wall_thickness, wall_y_size, wall_z_size]\n",
    "\n",
    "# 2. Couleur de la boîte [r, g, b, a]\n",
    "# Exemple : Gris clair semi-transparent\n",
    "box_color = [0.7, 0.7, 0.7, 0.5] # RGBA (alpha=0.6 pour la transparence)\n",
    "\n",
    "# 3. Pose de la boîte (pin.SE3)\n",
    "# La translation définit la position du *centre* de la boîte.\n",
    "# Le centre en X est au milieu de la plage [X_WALL_LOWER, X_WALL_UPPER]\n",
    "wall_center_x = (X_WALL_LOWER + X_WALL_UPPER) / 2\n",
    "# Le centre en Y est généralement à 0 si le robot opère autour de Y=0\n",
    "wall_center_y = (Y_WALL_LOWER + Y_WALL_UPPER) / 2\n",
    "# Le centre en Z est à la moitié de la hauteur si la base du mur est au sol (Z=0)\n",
    "wall_center_z = (Z_WALL_LOWER + Z_WALL_UPPER) / 2\n",
    "\n",
    "wall_translation = np.array([wall_center_x, wall_center_y, wall_center_z])\n",
    "\n",
    "# La rotation est généralement l'identité pour un mur aligné avec les axes\n",
    "wall_rotation = np.eye(3)\n",
    "\n",
    "# Créez l'objet pin.SE3 pour la pose\n",
    "wall_pose = pin.SE3(wall_rotation, wall_translation)\n",
    "\n",
    "viz.addBox('world/virtual_wall', box_dimensions, box_color)\n",
    "viz.applyConfiguration('world/virtual_wall', wall_pose)"
   ]
  },
  {
   "cell_type": "code",
   "execution_count": 15,
   "metadata": {},
   "outputs": [],
   "source": [
    "# on définit notre modèle crocoddyl\n",
    "state = crocoddyl.StateMultibody(robot_model) # definit l'espace dans lequel evolue l'état, definit par x=(q,v) \n",
    "actuationModel = crocoddyl.ActuationModelFull(state) # définit comment les commandes agissent sur le système, ici tau_q = u"
   ]
  },
  {
   "cell_type": "code",
   "execution_count": 16,
   "metadata": {},
   "outputs": [],
   "source": [
    "# On contraint le mouvement de l'effecteur dans la zone définie par le mur\n",
    "frameTranslationResidual = crocoddyl.ResidualModelFrameTranslation(\n",
    "    state, FRAME_TIP, np.zeros(3)\n",
    ")\n",
    "eeWallConstraint = crocoddyl.ConstraintModelResidual(\n",
    "    state,\n",
    "    frameTranslationResidual,\n",
    "    np.array([X_WALL_LOWER, Y_WALL_LOWER, Z_WALL_LOWER]),\n",
    "    np.array([X_WALL_UPPER, Y_WALL_UPPER, Z_WALL_UPPER]),\n",
    ")"
   ]
  },
  {
   "cell_type": "code",
   "execution_count": 17,
   "metadata": {},
   "outputs": [],
   "source": [
    "# on contraint également le modèle sur les points de passage fixes\n",
    "eeTargetResidual_goal1 = crocoddyl.ResidualModelFrameTranslation(state, FRAME_TIP, GOAL_POSITION1)\n",
    "eeTargetResidual_goal2 = crocoddyl.ResidualModelFrameTranslation(state, FRAME_TIP, GOAL_POSITION2)\n",
    "eeTargetResidual_goal3 = crocoddyl.ResidualModelFrameTranslation(state, FRAME_TIP, GOAL_POSITION3)\n",
    "eeTargetResidual_goal4 = crocoddyl.ResidualModelFrameTranslation(state, FRAME_TIP, GOAL_POSITION4)\n",
    "\n",
    "eeTargetConstraint_goal1 = crocoddyl.ConstraintModelResidual(\n",
    "    state, eeTargetResidual_goal1, np.zeros(3), np.zeros(3)\n",
    ")\n",
    "eeTargetConstraint_goal2 = crocoddyl.ConstraintModelResidual(\n",
    "    state, eeTargetResidual_goal2, np.zeros(3), np.zeros(3)\n",
    ")\n",
    "eeTargetConstraint_goal3 = crocoddyl.ConstraintModelResidual(\n",
    "    state, eeTargetResidual_goal3, np.zeros(3), np.zeros(3)\n",
    ")\n",
    "eeTargetConstraint_goal4 = crocoddyl.ConstraintModelResidual(\n",
    "    state, eeTargetResidual_goal4, np.zeros(3), np.zeros(3)\n",
    ") "
   ]
  },
  {
   "cell_type": "code",
   "execution_count": 18,
   "metadata": {},
   "outputs": [],
   "source": [
    "# On contraint maintenant en fonction des limites des joints du robot\n",
    "# Les bornes de vélocité sont [-velocityLimit, +velocityLimit].\n",
    "lower_bounds = np.concatenate([robot_model.lowerPositionLimit, -robot_model.velocityLimit])\n",
    "upper_bounds = np.concatenate([robot_model.upperPositionLimit, robot_model.velocityLimit])\n",
    "\n",
    "# On cré le résidu qui représente simplement l'état\n",
    "# Par défaut, ResidualModelState compare l'état actuel à un état de référence nul.\n",
    "# Le résidu est donc r = x - 0 = x.\n",
    "jointLimitsResidual = crocoddyl.ResidualModelState(state)\n",
    "\n",
    "# On cré le modèle de contrainte en utilisant le résidu et les bornes\n",
    "# On définit une contrainte d'inégalité: lower_bounds <= x <= upper_bounds\n",
    "jointLimitsConstraint = crocoddyl.ConstraintModelResidual(\n",
    "    state, \n",
    "    jointLimitsResidual, \n",
    "    lower_bounds, \n",
    "    upper_bounds\n",
    ")"
   ]
  },
  {
   "cell_type": "code",
   "execution_count": 19,
   "metadata": {},
   "outputs": [],
   "source": [
    "# ici je déclare toute mes séquences de contraintes\n",
    "# 1- modèle de contrainte pour les états transitoire \n",
    "runningConstraintManager_normal = crocoddyl.ConstraintModelManager(state, robot_model.nv)\n",
    "runningConstraintManager_normal.addConstraint(\"ee_wall\", eeWallConstraint) # contrainte sur le mur à ne pas dépasser\n",
    "runningConstraintManager_normal.addConstraint(\"physics_model\", jointLimitsConstraint) # contrainte sur la commande (limite physique du robot)\n",
    "\n",
    "# 2- Modèle de contrôle pour chaque objectif intermédiaire (goal1, goal2 et goal3)\n",
    "runningConstraintManager_goal1 = crocoddyl.ConstraintModelManager(state, robot_model.nv)\n",
    "runningConstraintManager_goal1.addConstraint(\"ee_wall\", eeWallConstraint) # contrainte sur le mur à ne pas dépasser\n",
    "runningConstraintManager_goal1.addConstraint(\"ee_target_goal1\", eeTargetConstraint_goal1) # Contrainte d'égalité pour la cible 1\n",
    "runningConstraintManager_goal1.addConstraint(\"physics_model\", jointLimitsConstraint) # contrainte sur la commande (limite physique du robot)\n",
    "\n",
    "runningConstraintManager_goal2 = crocoddyl.ConstraintModelManager(state, robot_model.nv)\n",
    "runningConstraintManager_goal2.addConstraint(\"ee_wall\", eeWallConstraint) # contrainte sur le mur à ne pas dépasser\n",
    "runningConstraintManager_goal2.addConstraint(\"ee_target_goal2\", eeTargetConstraint_goal2)\n",
    "runningConstraintManager_goal2.addConstraint(\"physics_model\", jointLimitsConstraint) # contrainte sur la commande (limite physique du robot)\n",
    "\n",
    "runningConstraintManager_goal3 = crocoddyl.ConstraintModelManager(state, robot_model.nv)\n",
    "runningConstraintManager_goal3.addConstraint(\"ee_wall\", eeWallConstraint) # contrainte sur le mur à ne pas dépasser\n",
    "runningConstraintManager_goal3.addConstraint(\"ee_target_goal3\", eeTargetConstraint_goal3)\n",
    "runningConstraintManager_goal3.addConstraint(\"physics_model\", jointLimitsConstraint) # contrainte sur la commande (limite physique du robot)\n",
    "\n",
    "# 3- Modèle de contrôle pour l'objectif final (goal4)\n",
    "terminalConstraintManager = crocoddyl.ConstraintModelManager(state, robot_model.nv)\n",
    "terminalConstraintManager.addConstraint(\"ee_wall\", eeWallConstraint) # contrainte sur le mur à ne pas dépasser\n",
    "terminalConstraintManager.addConstraint(\"ee_target_goal4\", eeTargetConstraint_goal4) # Contrainte d'égalité pour la cible terminale\n",
    "terminalConstraintManager.addConstraint(\"physics_model\", jointLimitsConstraint) # contrainte sur la commande (limite physique du robot)"
   ]
  },
  {
   "cell_type": "code",
   "execution_count": 23,
   "metadata": {},
   "outputs": [],
   "source": [
    "# On définit nos coûts\n",
    "\n",
    "# 1- On définit les coûts transitoires \n",
    "# on va choisir un coût sur la commande 1/2 || u ||**2\n",
    "residual_control = crocoddyl.ResidualModelControl(state, robot_model.nv)\n",
    "uRegCost = crocoddyl.CostModelResidual(state, residual_control) # cré la fonction quadratique standard sur le résidu\n",
    "\n",
    "# un cout sur l'éloignement par rapport à l'état initial x - x_ref\n",
    "residual_state = crocoddyl.ResidualModelState(state, robot_model.x0)\n",
    "activation_state = crocoddyl.ActivationModelWeightedQuad(np.array([.1]*7 + [.01]*7))\n",
    "xRegCost = crocoddyl.CostModelResidual(state, activation_state, residual_state)\n",
    "\n",
    "# 2- On définit les coût terminaux\n",
    "# on va choisir un coût sur l'état final (vitesse nulle)\n",
    "residual_terminal_state = crocoddyl.ResidualModelState(state, robot_model.x0)\n",
    "activation_terminal_velocity = crocoddyl.ActivationModelWeightedQuad(np.array([.0]*7 + [.1]*7)) # Uniquement en vitesse\n",
    "termVelocityCost = crocoddyl.CostModelResidual(state, activation_terminal_velocity, residual_terminal_state)\n",
    "\n"
   ]
  },
  {
   "cell_type": "code",
   "execution_count": 24,
   "metadata": {},
   "outputs": [],
   "source": [
    "# On déclare ensuite nos séquences de coût\n",
    "# On définit les poids à appliquer sur les coûts\n",
    "weight_uReg = 1e-4\n",
    "weight_xReg = 1e-4\n",
    "weight_terminalSpeed = 100\n",
    "\n",
    "runningCostModel = crocoddyl.CostModelSum(state)\n",
    "runningCostModel.addCost(\"command_regulation\", uRegCost, weight_uReg)\n",
    "runningCostModel.addCost(\"state_regulation\", xRegCost, weight_xReg)\n",
    "\n",
    "\n",
    "terminalCostModel = crocoddyl.CostModelSum(state)\n",
    "terminalCostModel.addCost(\"terminal_velocity\", termVelocityCost, weight_terminalSpeed)"
   ]
  },
  {
   "cell_type": "code",
   "execution_count": 31,
   "metadata": {},
   "outputs": [
    {
     "name": "stdout",
     "output_type": "stream",
     "text": [
      "Solving OCP...\n",
      "Solver finished in 3.20 seconds.\n"
     ]
    }
   ],
   "source": [
    "# --- Étape finale : Assemblage du Problème de Tir (Shooting Problem) ---\n",
    "\n",
    "# On crée une liste pour stocker les modèles d'action pour chaque pas de temps\n",
    "runningModels = []\n",
    "\n",
    "# La boucle va créer un modèle d'action pour chaque intervalle de temps de l'horizon\n",
    "for k in range(HORIZON_LENGTH):\n",
    "    # On crée un modèle d'action différentielle (Differential Action Model)\n",
    "    # C'est le cœur de Crocoddyl, il lie les coûts et contraintes à la dynamique du robot\n",
    "    runningDam = crocoddyl.DifferentialActionModelFreeFwdDynamics(\n",
    "        state, actuationModel, runningCostModel.copy(), runningConstraintManager_normal.copy()\n",
    "    )\n",
    "    \n",
    "    # --- On applique les contraintes de passage aux nœuds spécifiques ---\n",
    "    # Remarque : Les contraintes sur un noeud k s'appliquent sur l'état x_{k+1}\n",
    "    # donc on doit vérifier l'index k.\n",
    "    if k == GOAL1_INDEX:\n",
    "        runningDam.constraints.addConstraint(\"ee_target_goal1\", eeTargetConstraint_goal1)\n",
    "    if k == GOAL2_INDEX:\n",
    "        runningDam.constraints.addConstraint(\"ee_target_goal2\", eeTargetConstraint_goal2)\n",
    "    if k == GOAL3_INDEX:\n",
    "        runningDam.constraints.addConstraint(\"ee_target_goal3\", eeTargetConstraint_goal3)\n",
    "        \n",
    "    # On convertit le modèle différentiel en modèle d'action intégrée\n",
    "    # C'est cette version discrétisée qui est utilisée par le solveur\n",
    "    runningModels.append(\n",
    "        crocoddyl.IntegratedActionModelEuler(runningDam, TIME_STEP)\n",
    "    )\n",
    "\n",
    "# On crée le modèle d'action terminal\n",
    "# Il utilise le coût terminal et les contraintes terminales que vous avez définis\n",
    "terminalDam = crocoddyl.DifferentialActionModelFreeFwdDynamics(\n",
    "    state, actuationModel, terminalCostModel, terminalConstraintManager\n",
    ")\n",
    "terminalModel = crocoddyl.IntegratedActionModelEuler(terminalDam, 0) # Time step de 0 pour le terminal\n",
    "\n",
    "# On crée l'objet \"ShootingProblem\"\n",
    "# Il prend l'état initial x0, la liste des modèles d'action transitoires, et le modèle terminal\n",
    "problem = crocoddyl.ShootingProblem(robot_model.x0, runningModels, terminalModel)\n",
    "\n",
    "# --- Étape 5 : Résolution du problème ---\n",
    "\n",
    "# On choisit un solveur\n",
    "solver = mim_solvers.SolverCSQP(problem)\n",
    "\n",
    "# On définit des paramètres pour le solveur\n",
    "#solver.termination_tolerance = 1e-4\n",
    "#solver.max_iterations = 500\n",
    "#solver.use_filter_line_search = False # Important pour CSQP\n",
    "\n",
    "solver.with_callbacks = True \n",
    "solver.termination_tolerance = 1e-3\n",
    "solver.max_qp_iters = 1000\n",
    "solver.eps_abs = 1e-5\n",
    "solver.eps_rel = 0.\n",
    "solver.use_filter_line_search = True\n",
    "\n",
    "# On donne une trajectoire initiale de commandes (ici, des zéros)\n",
    "# Cela aide le solveur à démarrer\n",
    "us_init = [np.zeros(robot_model.nv)] * HORIZON_LENGTH\n",
    "xs_init = [robot_model.x0] * (HORIZON_LENGTH + 1)\n",
    "\n",
    "# On résout le problème !\n",
    "print(\"Solving OCP...\")\n",
    "start_time = time.time()\n",
    "solver.solve(xs_init, us_init)\n",
    "end_time = time.time()\n",
    "print(f\"Solver finished in {end_time - start_time:.2f} seconds.\")"
   ]
  },
  {
   "cell_type": "code",
   "execution_count": 32,
   "metadata": {},
   "outputs": [],
   "source": [
    "# --- Visualisation du résultat ---\n",
    "viz.play([x[:robot.model.nq] for x in solver.xs],TIME_STEP)\n",
    "\n",
    "# Vous pouvez aussi afficher les plots des commandes ou des états\n",
    "# fig, ax = plt.subplots(2, 1, sharex=True)\n",
    "# ax[0].plot(np.array(solver.xs)[:, :7])\n",
    "# ax[0].set_ylabel(\"q\")\n",
    "# ax[1].plot(np.array(solver.us))\n",
    "# ax[1].set_ylabel(\"u\")\n",
    "# plt.show()"
   ]
  },
  {
   "cell_type": "code",
   "execution_count": null,
   "metadata": {},
   "outputs": [],
   "source": []
  }
 ],
 "metadata": {
  "kernelspec": {
   "display_name": "Python 3 (ipykernel)",
   "language": "python",
   "name": "python3"
  },
  "language_info": {
   "codemirror_mode": {
    "name": "ipython",
    "version": 3
   },
   "file_extension": ".py",
   "mimetype": "text/x-python",
   "name": "python",
   "nbconvert_exporter": "python",
   "pygments_lexer": "ipython3",
   "version": "3.12.3"
  }
 },
 "nbformat": 4,
 "nbformat_minor": 4
}
